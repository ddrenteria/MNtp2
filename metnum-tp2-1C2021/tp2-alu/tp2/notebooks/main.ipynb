{
 "cells": [
  {
   "cell_type": "code",
   "execution_count": 1,
   "id": "1bbd98f2",
   "metadata": {},
   "outputs": [
    {
     "name": "stdout",
     "output_type": "stream",
     "text": [
      "mkdir: cannot create directory ‘build’: File exists\n",
      "-- The C compiler identification is GNU 9.3.0\n",
      "-- The CXX compiler identification is GNU 9.3.0\n",
      "-- Check for working C compiler: /usr/bin/cc\n",
      "-- Check for working C compiler: /usr/bin/cc -- works\n",
      "-- Detecting C compiler ABI info\n",
      "-- Detecting C compiler ABI info - done\n",
      "-- Detecting C compile features\n",
      "-- Detecting C compile features - done\n",
      "-- Check for working CXX compiler: /usr/bin/c++\n",
      "-- Check for working CXX compiler: /usr/bin/c++ -- works\n",
      "-- Detecting CXX compiler ABI info\n",
      "-- Detecting CXX compiler ABI info - done\n",
      "-- Detecting CXX compile features\n",
      "-- Detecting CXX compile features - done\n",
      "Release mode\n",
      "-- Found PythonInterp: /home/dago/anaconda3/envs/tp2/bin/python3 (found version \"3.6.5\") \n",
      "-- Found PythonLibs: /home/dago/anaconda3/envs/tp2/lib/libpython3.6m.so\n",
      "-- pybind11 v2.2.4\n",
      "-- Performing Test HAS_FLTO\n",
      "-- Performing Test HAS_FLTO - Success\n",
      "-- LTO enabled\n",
      "CMAKE_INSTALL_PREFIX=/home/dago/Desktop/Facultad/MN/MNtp2/metnum-tp2-1C2021/tp2-alu/tp2\n",
      "-- Configuring done\n",
      "-- Generating done\n",
      "-- Build files have been written to: /home/dago/Desktop/Facultad/MN/MNtp2/metnum-tp2-1C2021/tp2-alu/tp2/build\n",
      "\u001b[35m\u001b[1mScanning dependencies of target tp2\u001b[0m\n",
      "[ 10%] \u001b[32mBuilding CXX object CMakeFiles/tp2.dir/src/main.cpp.o\u001b[0m\n",
      "\u001b[01m\u001b[K/home/dago/Desktop/Facultad/MN/MNtp2/metnum-tp2-1C2021/tp2-alu/tp2/src/main.cpp:\u001b[m\u001b[K In function ‘\u001b[01m\u001b[Kint main(int, char**)\u001b[m\u001b[K’:\n",
      "\u001b[01m\u001b[K/home/dago/Desktop/Facultad/MN/MNtp2/metnum-tp2-1C2021/tp2-alu/tp2/src/main.cpp:85:5:\u001b[m\u001b[K \u001b[01;35m\u001b[Kwarning: \u001b[m\u001b[K‘\u001b[01m\u001b[Kmethod\u001b[m\u001b[K’ may be used uninitialized in this function [\u001b[01;35m\u001b[K-Wmaybe-uninitialized\u001b[m\u001b[K]\n",
      "   85 |     \u001b[01;35m\u001b[Kswitch\u001b[m\u001b[K (method) {\n",
      "      |     \u001b[01;35m\u001b[K^~~~~~\u001b[m\u001b[K\n",
      "\u001b[01m\u001b[K/home/dago/Desktop/Facultad/MN/MNtp2/metnum-tp2-1C2021/tp2-alu/tp2/src/main.cpp:99:55:\u001b[m\u001b[K \u001b[01;35m\u001b[Kwarning: \u001b[m\u001b[K‘\u001b[01m\u001b[Kk\u001b[m\u001b[K’ may be used uninitialized in this function [\u001b[01;35m\u001b[K-Wmaybe-uninitialized\u001b[m\u001b[K]\n",
      "   99 |             KNNClassifier classifier = KNNClassifier(k\u001b[01;35m\u001b[K)\u001b[m\u001b[K;\n",
      "      |                                                       \u001b[01;35m\u001b[K^\u001b[m\u001b[K\n",
      "\u001b[01m\u001b[K/home/dago/Desktop/Facultad/MN/MNtp2/metnum-tp2-1C2021/tp2-alu/tp2/src/main.cpp:94:53:\u001b[m\u001b[K \u001b[01;35m\u001b[Kwarning: \u001b[m\u001b[K‘\u001b[01m\u001b[Kalpha\u001b[m\u001b[K’ may be used uninitialized in this function [\u001b[01;35m\u001b[K-Wmaybe-uninitialized\u001b[m\u001b[K]\n",
      "   94 |             PCA transformer = PCA(alpha, 1000, 1e-16\u001b[01;35m\u001b[K)\u001b[m\u001b[K;\n",
      "      |                                                     \u001b[01;35m\u001b[K^\u001b[m\u001b[K\n",
      "[ 20%] \u001b[32mBuilding CXX object CMakeFiles/tp2.dir/src/knn.cpp.o\u001b[0m\n",
      "[ 30%] \u001b[32mBuilding CXX object CMakeFiles/tp2.dir/src/pca.cpp.o\u001b[0m\n",
      "[ 40%] \u001b[32mBuilding CXX object CMakeFiles/tp2.dir/src/eigen.cpp.o\u001b[0m\n",
      "[ 50%] \u001b[32m\u001b[1mLinking CXX executable tp2\u001b[0m\n",
      "[ 50%] Built target tp2\n",
      "\u001b[35m\u001b[1mScanning dependencies of target metnum\u001b[0m\n",
      "[ 60%] \u001b[32mBuilding CXX object CMakeFiles/metnum.dir/src/metnum.cpp.o\u001b[0m\n",
      "[ 70%] \u001b[32mBuilding CXX object CMakeFiles/metnum.dir/src/knn.cpp.o\u001b[0m\n",
      "[ 80%] \u001b[32mBuilding CXX object CMakeFiles/metnum.dir/src/pca.cpp.o\u001b[0m\n",
      "[ 90%] \u001b[32mBuilding CXX object CMakeFiles/metnum.dir/src/eigen.cpp.o\u001b[0m\n",
      "[100%] \u001b[32m\u001b[1mLinking CXX shared module metnum.cpython-36m-x86_64-linux-gnu.so\u001b[0m\n",
      "[100%] Built target metnum\n",
      "\u001b[36mInstall the project...\u001b[0m\n",
      "-- Install configuration: \"Release\"\n",
      "-- Installing: /home/dago/Desktop/Facultad/MN/MNtp2/metnum-tp2-1C2021/tp2-alu/tp2/notebooks/metnum.cpython-36m-x86_64-linux-gnu.so\n"
     ]
    }
   ],
   "source": [
    "!cd .. && mkdir build\n",
    "!cd ../build/ && rm -rf *\n",
    "!cd ../build && cmake \\\n",
    "  -DPYTHON_EXECUTABLE=\"$(which python3)\" \\\n",
    "  -DCMAKE_BUILD_TYPE=Release ..\n",
    "!cd ../build && make install"
   ]
  },
  {
   "cell_type": "code",
   "execution_count": 11,
   "id": "d01d60c0",
   "metadata": {},
   "outputs": [
    {
     "name": "stdout",
     "output_type": "stream",
     "text": [
      "/home/dago/Desktop/Facultad/MN/MNtp2/metnum-tp2-1C2021/tp2-alu/tp2/notebooks\n",
      "Python 3.6.5 :: Anaconda, Inc.\n",
      "The autoreload extension is already loaded. To reload it, use:\n",
      "  %reload_ext autoreload\n"
     ]
    }
   ],
   "source": [
    "# Verifico la correcta instalación. Si no falla el import está OK\n",
    "!pwd\n",
    "!python --version\n",
    "import metnum\n",
    "%load_ext autoreload\n",
    "%autoreload 2\n",
    "import pandas as pd\n",
    "from tqdm import tqdm\n",
    "import matplotlib.pyplot as plt"
   ]
  },
  {
   "cell_type": "markdown",
   "id": "2354150c",
   "metadata": {},
   "source": [
    "# Instancias de train and test\n"
   ]
  },
  {
   "cell_type": "code",
   "execution_count": 12,
   "id": "4f42976b",
   "metadata": {},
   "outputs": [
    {
     "name": "stdout",
     "output_type": "stream",
     "text": [
      "CPU times: user 4 µs, sys: 1e+03 ns, total: 5 µs\n",
      "Wall time: 7.87 µs\n"
     ]
    }
   ],
   "source": [
    "%%time\n",
    "\n",
    "filename = \"../data/train.csv\"\n",
    "\n",
    "def get_data_set(filepath, total_instances):\n",
    "    df_train = pd.read_csv(filepath)\n",
    "    df_train = df_train[:total_instances]\n",
    "    \n",
    "    # Uso values para mandar todo a arrays de numpy\n",
    "    X = df_train[df_train.columns[1:]].values\n",
    "    y = df_train[\"label\"].values.reshape(-1, 1)\n",
    "    \n",
    "    return X, y\n",
    "\n",
    "def main(filename, k, alpha, method, total_instances = 32000, num_iter = 1000, train_percentage = 0.8, epsilon = 1e-6 ):\n",
    "    X, y = get_data_set(filename, total_instances)\n",
    "    \n",
    "    # take some instances for train and other for validation\n",
    "    limit = int(train_percentage * X.shape[0]) \n",
    "\n",
    "    X_train, label_train = X[:limit], y[:limit]\n",
    "    X_val, label_val = X[limit:], y[limit:]\n",
    "\n",
    "    assert len(X_train) == len(label_train)\n",
    "    assert len(X_val) == len(label_val)\n",
    "\n",
    "    clf = metnum.KNNClassifier(k)\n",
    "    \n",
    "    if (method == \"KNN\"):\n",
    "        clf.fit(X_train, label_train)\n",
    "        \n",
    "    if (method == \"KNN_PCA\"):\n",
    "        pca = metnum.PCA(alpha, num_iter, epsilon)\n",
    "        pca.fit(X_train)\n",
    "\n",
    "        X_train = pca.transform(X_train)\n",
    "        X_val = pca.transform(X_val)\n",
    "        \n",
    "        clf.fit(X_train, label_train) \n",
    "\n",
    "    from sklearn.metrics import accuracy_score\n",
    "    label_pred = clf.predict(X_val)\n",
    "\n",
    "    acc = accuracy_score(label_val, label_pred)\n",
    "    print(\"Accuracy: {}\".format(acc))"
   ]
  },
  {
   "cell_type": "code",
   "execution_count": 5,
   "id": "9db3f627",
   "metadata": {},
   "outputs": [
    {
     "name": "stdout",
     "output_type": "stream",
     "text": [
      "Accuracy: 0.923\n",
      "CPU times: user 7.42 s, sys: 447 ms, total: 7.86 s\n",
      "Wall time: 7.66 s\n"
     ]
    }
   ],
   "source": [
    "%%time\n",
    "main(filename, 1, 15, \"KNN_PCA\", 5000, 1000, 0.8, 1e-8)\n"
   ]
  },
  {
   "cell_type": "markdown",
   "id": "1c83fc5f",
   "metadata": {},
   "source": [
    "# Testing -------------------------------------------\n"
   ]
  },
  {
   "cell_type": "code",
   "execution_count": 10,
   "id": "7b0eecb0",
   "metadata": {},
   "outputs": [
    {
     "name": "stdout",
     "output_type": "stream",
     "text": [
      "True\n",
      "[-81.01699942  -5.84815982  68.23429144]\n",
      "[-81.01699942  -5.84815982  68.23429144]\n",
      "True\n",
      "[-0.485262    3.71464028 -0.25779796]\n",
      "[-0.485262    3.71464028 -0.25779796]\n",
      "True\n",
      "[0.10161836 0.02177798 0.12252162]\n",
      "[0.10161836 0.02177798 0.12252162]\n"
     ]
    }
   ],
   "source": [
    "# test 1\n",
    "import numpy as np\n",
    "A = np.array([[ 62,   4, -52],\n",
    " [  4,   4,  -4],\n",
    " [-52,  -4,  44]])\n",
    "\n",
    "w, V = metnum.get_first_eigenvalues(A, 3, 5000, 1e-8)\n",
    "\n",
    "for i in range(len(A)):\n",
    "    print(np.allclose(A @ V[:, i], w[i] * V[:,i]))\n",
    "    print(A @ V[:, i])\n",
    "    print(w[i] * V[:,i])"
   ]
  },
  {
   "cell_type": "code",
   "execution_count": 18,
   "id": "fa474266",
   "metadata": {},
   "outputs": [],
   "source": [
    "def get_x_by_label(data, labels, label ):\n",
    "    result_x = []\n",
    "    result_y = []\n",
    "    for i in range(0,len(data)):\n",
    "        if (labels[i] == label):\n",
    "            result_x.append(data[i][0])\n",
    "            result_y.append(data[i][1])\n",
    "    return result_x, result_y"
   ]
  },
  {
   "cell_type": "code",
   "execution_count": 76,
   "id": "e2594cea",
   "metadata": {},
   "outputs": [
    {
     "name": "stdout",
     "output_type": "stream",
     "text": [
      "Accuracy: 0.6\n"
     ]
    }
   ],
   "source": [
    "# Test 2 PCA\n",
    "filename = \"../data/train.csv\"\n",
    "alpha = 2\n",
    "k = 1\n",
    "total_instances = 100\n",
    "train_percentage = 0.95\n",
    "num_iter = 1000\n",
    "epsilon = 1e-10\n",
    "\n",
    "X, y = get_data_set(filename, total_instances)\n",
    "\n",
    "# take some instances for train and other for validation\n",
    "limit = int(train_percentage * X.shape[0]) \n",
    "\n",
    "X_train, label_train = X[:limit], y[:limit]\n",
    "X_val, label_val = X[limit:], y[limit:]\n",
    "\n",
    "assert len(X_train) == len(label_train)\n",
    "assert len(X_val) == len(label_val)\n",
    "\n",
    "clf = metnum.KNNClassifier(k)\n",
    "\n",
    "pca = metnum.PCA(alpha, num_iter, epsilon)\n",
    "pca.fit(X_train)\n",
    "\n",
    "X_train = pca.transform(X_train)\n",
    "X_val = pca.transform(X_val)\n",
    "\n",
    "clf.fit(X_train, label_train) \n",
    "\n",
    "from sklearn.metrics import accuracy_score\n",
    "label_pred = clf.predict(X_val)\n",
    "\n",
    "acc = accuracy_score(label_val, label_pred)\n",
    "print(\"Accuracy: {}\".format(acc))\n",
    "\n",
    "#zero_x, zero_y = get_x_by_label(X_train, label_train, 0)\n",
    "#one_x, one_y = get_x_by_label(X_train, label_train, 1)\n",
    "#two_x, two_y = get_x_by_label(X_train, label_train, 2)\n",
    "#four_x, four_y = get_x_by_label(X_train, label_train, 4)\n",
    "#plt.scatter(zero_x, zero_y)\n",
    "#plt.scatter(one_x, one_y)\n",
    "#plt.scatter(two_x, two_y)\n",
    "#plt.scatter(four_x, four_y)\n",
    "#plt.show()\n",
    "\n",
    "\n",
    "    \n"
   ]
  },
  {
   "cell_type": "code",
   "execution_count": 77,
   "id": "2c47981e",
   "metadata": {},
   "outputs": [
    {
     "data": {
      "image/png": "[encoded data removed]",
      "text/plain": [
       "<Figure size 432x288 with 1 Axes>"
      ]
     },
     "metadata": {
      "needs_background": "light"
     },
     "output_type": "display_data"
    }
   ],
   "source": [
    "plt.scatter(X_train[:,0], X_train[:,1],s=10 ,c = label_train)\n",
    "plt.scatter(X_val[:,0], X_val[:,1], c = label_pred, s = 90,marker='^', alpha = 0.7)\n",
    "\n",
    "plt.show()\n"
   ]
  },
  {
   "cell_type": "markdown",
   "id": "41b44af1",
   "metadata": {},
   "source": [
    "# Implementación\n",
    "- En el metodo de la potencia verificamos al final que se trate de un autovector de X con precision epsilon\n",
    "- "
   ]
  },
  {
   "cell_type": "markdown",
   "id": "2ae69d6c",
   "metadata": {},
   "source": [
    "# Metodo para parar el metodo de la potencia\n",
    "- research\n",
    "- sugerir en el informe las opciones evaluadas\n",
    "- elegir 2/3 metodos y evaluar su eficiencia en base a la perfomance de tiempo y a distancia de los resultados obtenidos"
   ]
  },
  {
   "cell_type": "markdown",
   "id": "c4daeb68",
   "metadata": {},
   "source": [
    "# Experimentar con la k\n",
    "- Encontrar primero del 1 al 200 de a saltos de a 10\n",
    "- Hipotesis: va a estar entre los primeros ya que tener en cuenta demasiados puntos mas cercanos deja de tener sentido\n",
    "- Luego concluir que esta entre los primeros y hacer del 1 al 20"
   ]
  },
  {
   "cell_type": "markdown",
   "id": "125ffea9",
   "metadata": {},
   "source": [
    "# Experimentar con el alpha\n",
    "- Research paper de buenos alphas\n",
    "- **Experimentar**: Experimentacion similar a la de K pero el inicial talvez mejor hasta 600 o algo del estilo para tener un panorama mas completo ya que no se espepra que al aumentarlo empeore necesariamente\n"
   ]
  },
  {
   "cell_type": "markdown",
   "id": "92f56681",
   "metadata": {},
   "source": [
    "# Experimentar con la cantidad de instancias \n",
    "- para distintos k/alpha?\n"
   ]
  },
  {
   "cell_type": "markdown",
   "id": "0dc14a3f",
   "metadata": {},
   "source": [
    "# Posible metodo KNN pesado\n",
    "- Por orden(sencillo pero no tan bueno talvez)\n",
    "- Por distancia con peso"
   ]
  },
  {
   "cell_type": "markdown",
   "id": "63dc699e",
   "metadata": {},
   "source": [
    "# Metricas para determinar los resultados obtenidos que no son accuracy\n",
    "- Accuracy\n",
    "- Curvas de precisión\n",
    "- Recall\n",
    "- Kappa de Cohen\n",
    "- F1 Score"
   ]
  },
  {
   "cell_type": "markdown",
   "id": "b0fb0e61",
   "metadata": {},
   "source": [
    "# Formas de tomar la data para entrenar\n",
    "- Ver la distribución de los datos\n",
    "- Como tomarlos"
   ]
  },
  {
   "cell_type": "markdown",
   "id": "7aaaac60",
   "metadata": {},
   "source": [
    "# Otros requisitos\n",
    "- Se pide realizar un estudio experimental de los métodos propuestos sobre una base de\n",
    "entrenamiento utilizando la técnica K-fold cross validation mencionada anteriormente, con\n",
    "el objetivo de analizar el poder de clasificación y encontrar los mejores parámetros de los\n",
    "métodos. Se deberá trabajar al menos con la base de de datos MNIST, en la versión disponible\n",
    "en kaggle para la competencia Digit Recognizer 2 ."
   ]
  },
  {
   "cell_type": "code",
   "execution_count": null,
   "id": "fb606d1c",
   "metadata": {},
   "outputs": [],
   "source": []
  }
 ],
 "metadata": {
  "kernelspec": {
   "display_name": "Python 3",
   "language": "python",
   "name": "python3"
  },
  "language_info": {
   "codemirror_mode": {
    "name": "ipython",
    "version": 3
   },
   "file_extension": ".py",
   "mimetype": "text/x-python",
   "name": "python",
   "nbconvert_exporter": "python",
   "pygments_lexer": "ipython3",
   "version": "3.6.5"
  }
 },
 "nbformat": 4,
 "nbformat_minor": 5
}
