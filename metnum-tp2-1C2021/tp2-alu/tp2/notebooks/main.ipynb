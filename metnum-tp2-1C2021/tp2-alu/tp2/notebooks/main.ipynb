{
 "cells": [
  {
   "cell_type": "code",
   "execution_count": 1,
   "id": "f859a47d",
   "metadata": {},
   "outputs": [
    {
     "name": "stdout",
     "output_type": "stream",
     "text": [
      "mkdir: cannot create directory ‘build’: File exists\n",
      "-- The C compiler identification is GNU 9.3.0\n",
      "-- The CXX compiler identification is GNU 9.3.0\n",
      "-- Check for working C compiler: /usr/bin/cc\n",
      "-- Check for working C compiler: /usr/bin/cc -- works\n",
      "-- Detecting C compiler ABI info\n",
      "-- Detecting C compiler ABI info - done\n",
      "-- Detecting C compile features\n",
      "-- Detecting C compile features - done\n",
      "-- Check for working CXX compiler: /usr/bin/c++\n",
      "-- Check for working CXX compiler: /usr/bin/c++ -- works\n",
      "-- Detecting CXX compiler ABI info\n",
      "-- Detecting CXX compiler ABI info - done\n",
      "-- Detecting CXX compile features\n",
      "-- Detecting CXX compile features - done\n",
      "Release mode\n",
      "-- Found PythonInterp: /home/dago/anaconda3/envs/tp2/bin/python3 (found version \"3.6.5\") \n",
      "-- Found PythonLibs: /home/dago/anaconda3/envs/tp2/lib/libpython3.6m.so\n",
      "-- pybind11 v2.2.4\n",
      "-- Performing Test HAS_FLTO\n",
      "-- Performing Test HAS_FLTO - Success\n",
      "-- LTO enabled\n",
      "CMAKE_INSTALL_PREFIX=/home/dago/Desktop/Facultad/MN/MNtp2/metnum-tp2-1C2021/tp2-alu/tp2\n",
      "-- Configuring done\n",
      "-- Generating done\n",
      "-- Build files have been written to: /home/dago/Desktop/Facultad/MN/MNtp2/metnum-tp2-1C2021/tp2-alu/tp2/build\n",
      "\u001b[35m\u001b[1mScanning dependencies of target tp2\u001b[0m\n",
      "[ 10%] \u001b[32mBuilding CXX object CMakeFiles/tp2.dir/src/main.cpp.o\u001b[0m\n",
      "\u001b[01m\u001b[K/home/dago/Desktop/Facultad/MN/MNtp2/metnum-tp2-1C2021/tp2-alu/tp2/src/main.cpp:\u001b[m\u001b[K In function ‘\u001b[01m\u001b[Kint main(int, char**)\u001b[m\u001b[K’:\n",
      "\u001b[01m\u001b[K/home/dago/Desktop/Facultad/MN/MNtp2/metnum-tp2-1C2021/tp2-alu/tp2/src/main.cpp:85:5:\u001b[m\u001b[K \u001b[01;35m\u001b[Kwarning: \u001b[m\u001b[K‘\u001b[01m\u001b[Kmethod\u001b[m\u001b[K’ may be used uninitialized in this function [\u001b[01;35m\u001b[K-Wmaybe-uninitialized\u001b[m\u001b[K]\n",
      "   85 |     \u001b[01;35m\u001b[Kswitch\u001b[m\u001b[K (method) {\n",
      "      |     \u001b[01;35m\u001b[K^~~~~~\u001b[m\u001b[K\n",
      "\u001b[01m\u001b[K/home/dago/Desktop/Facultad/MN/MNtp2/metnum-tp2-1C2021/tp2-alu/tp2/src/main.cpp:99:55:\u001b[m\u001b[K \u001b[01;35m\u001b[Kwarning: \u001b[m\u001b[K‘\u001b[01m\u001b[Kk\u001b[m\u001b[K’ may be used uninitialized in this function [\u001b[01;35m\u001b[K-Wmaybe-uninitialized\u001b[m\u001b[K]\n",
      "   99 |             KNNClassifier classifier = KNNClassifier(k\u001b[01;35m\u001b[K)\u001b[m\u001b[K;\n",
      "      |                                                       \u001b[01;35m\u001b[K^\u001b[m\u001b[K\n",
      "\u001b[01m\u001b[K/home/dago/Desktop/Facultad/MN/MNtp2/metnum-tp2-1C2021/tp2-alu/tp2/src/main.cpp:94:53:\u001b[m\u001b[K \u001b[01;35m\u001b[Kwarning: \u001b[m\u001b[K‘\u001b[01m\u001b[Kalpha\u001b[m\u001b[K’ may be used uninitialized in this function [\u001b[01;35m\u001b[K-Wmaybe-uninitialized\u001b[m\u001b[K]\n",
      "   94 |             PCA transformer = PCA(alpha, 1000, 1e-16\u001b[01;35m\u001b[K)\u001b[m\u001b[K;\n",
      "      |                                                     \u001b[01;35m\u001b[K^\u001b[m\u001b[K\n",
      "[ 20%] \u001b[32mBuilding CXX object CMakeFiles/tp2.dir/src/knn.cpp.o\u001b[0m\n",
      "[ 30%] \u001b[32mBuilding CXX object CMakeFiles/tp2.dir/src/pca.cpp.o\u001b[0m\n",
      "[ 40%] \u001b[32mBuilding CXX object CMakeFiles/tp2.dir/src/eigen.cpp.o\u001b[0m\n",
      "[ 50%] \u001b[32m\u001b[1mLinking CXX executable tp2\u001b[0m\n",
      "[ 50%] Built target tp2\n",
      "\u001b[35m\u001b[1mScanning dependencies of target metnum\u001b[0m\n",
      "[ 60%] \u001b[32mBuilding CXX object CMakeFiles/metnum.dir/src/metnum.cpp.o\u001b[0m\n",
      "[ 70%] \u001b[32mBuilding CXX object CMakeFiles/metnum.dir/src/knn.cpp.o\u001b[0m\n",
      "[ 80%] \u001b[32mBuilding CXX object CMakeFiles/metnum.dir/src/pca.cpp.o\u001b[0m\n",
      "[ 90%] \u001b[32mBuilding CXX object CMakeFiles/metnum.dir/src/eigen.cpp.o\u001b[0m\n",
      "[100%] \u001b[32m\u001b[1mLinking CXX shared module metnum.cpython-36m-x86_64-linux-gnu.so\u001b[0m\n",
      "[100%] Built target metnum\n",
      "\u001b[36mInstall the project...\u001b[0m\n",
      "-- Install configuration: \"Release\"\n",
      "-- Installing: /home/dago/Desktop/Facultad/MN/MNtp2/metnum-tp2-1C2021/tp2-alu/tp2/notebooks/metnum.cpython-36m-x86_64-linux-gnu.so\n"
     ]
    }
   ],
   "source": [
    "!cd .. && mkdir build\n",
    "!cd ../build/ && rm -rf *\n",
    "!cd ../build && cmake \\\n",
    "  -DPYTHON_EXECUTABLE=\"$(which python3)\" \\\n",
    "  -DCMAKE_BUILD_TYPE=Release ..\n",
    "!cd ../build && make install"
   ]
  },
  {
   "cell_type": "code",
   "execution_count": 2,
   "id": "f6f30663",
   "metadata": {},
   "outputs": [
    {
     "name": "stdout",
     "output_type": "stream",
     "text": [
      "/home/dago/Desktop/Facultad/MN/MNtp2/metnum-tp2-1C2021/tp2-alu/tp2/notebooks\n",
      "Python 3.6.5 :: Anaconda, Inc.\n"
     ]
    }
   ],
   "source": [
    "# Verifico la correcta instalación. Si no falla el import está OK\n",
    "!pwd\n",
    "!python --version\n",
    "import metnum\n",
    "%load_ext autoreload\n",
    "%autoreload 2\n",
    "import pandas as pd\n",
    "from tqdm import tqdm\n",
    "import matplotlib.pyplot as plt\n",
    "import time\n",
    "import os\n",
    "import sys\n",
    "import numpy as np\n",
    "import pandas as pd"
   ]
  },
  {
   "cell_type": "markdown",
   "id": "966dce93",
   "metadata": {},
   "source": [
    "# Instancias de train and test\n"
   ]
  },
  {
   "cell_type": "code",
   "execution_count": 3,
   "id": "7bdcea6c",
   "metadata": {},
   "outputs": [
    {
     "name": "stdout",
     "output_type": "stream",
     "text": [
      "CPU times: user 4 µs, sys: 0 ns, total: 4 µs\n",
      "Wall time: 7.87 µs\n"
     ]
    }
   ],
   "source": [
    "%%time\n",
    "\n",
    "filename = \"../data/train.csv\"\n",
    "\n",
    "def get_data_set(filepath, total_instances):\n",
    "    df_train = pd.read_csv(filepath)\n",
    "    df_train = df_train[:total_instances]\n",
    "    \n",
    "    # Uso values para mandar todo a arrays de numpy\n",
    "    X = df_train[df_train.columns[1:]].values\n",
    "    y = df_train[\"label\"].values.reshape(-1, 1)\n",
    "    \n",
    "    return X, y\n",
    "\n",
    "def main(filename, k, alpha, method, total_instances = 32000, num_iter = 1000, train_percentage = 0.8, epsilon = 1e-6 ):\n",
    "    X, y = get_data_set(filename, total_instances)\n",
    "    \n",
    "    # take some instances for train and other for validation\n",
    "    limit = int(train_percentage * X.shape[0]) \n",
    "\n",
    "    X_train, label_train = X[:limit], y[:limit]\n",
    "    X_val, label_val = X[limit:], y[limit:]\n",
    "\n",
    "    assert len(X_train) == len(label_train)\n",
    "    assert len(X_val) == len(label_val)\n",
    "\n",
    "    clf = metnum.KNNClassifier(k)\n",
    "    \n",
    "    if (method == \"KNN\"):\n",
    "        clf.fit(X_train, label_train)\n",
    "        \n",
    "    if (method == \"KNN_PCA\"):\n",
    "        pca = metnum.PCA(alpha, num_iter, epsilon)\n",
    "        pca.fit(X_train)\n",
    "\n",
    "        X_train = pca.transform(X_train)\n",
    "        X_val = pca.transform(X_val)\n",
    "        \n",
    "        clf.fit(X_train, label_train) \n",
    "\n",
    "    from sklearn.metrics import accuracy_score\n",
    "    label_pred = clf.predict(X_val)\n",
    "\n",
    "    acc = accuracy_score(label_val, label_pred)\n",
    "    print(\"Accuracy: {}\".format(acc))\n",
    "    return acc"
   ]
  },
  {
   "cell_type": "code",
   "execution_count": 5,
   "id": "9b8d4638",
   "metadata": {},
   "outputs": [
    {
     "name": "stdout",
     "output_type": "stream",
     "text": [
      "Accuracy: 0.923\n",
      "CPU times: user 7.42 s, sys: 447 ms, total: 7.86 s\n",
      "Wall time: 7.66 s\n"
     ]
    }
   ],
   "source": [
    "%%time\n",
    "main(filename, 1, 15, \"KNN_PCA\", 5000, 1000, 0.8, 1e-8)\n"
   ]
  },
  {
   "cell_type": "markdown",
   "id": "f1e3db9f",
   "metadata": {},
   "source": [
    "# Testing -------------------------------------------\n"
   ]
  },
  {
   "cell_type": "code",
   "execution_count": 10,
   "id": "0823e482",
   "metadata": {},
   "outputs": [
    {
     "name": "stdout",
     "output_type": "stream",
     "text": [
      "True\n",
      "[-81.01699942  -5.84815982  68.23429144]\n",
      "[-81.01699942  -5.84815982  68.23429144]\n",
      "True\n",
      "[-0.485262    3.71464028 -0.25779796]\n",
      "[-0.485262    3.71464028 -0.25779796]\n",
      "True\n",
      "[0.10161836 0.02177798 0.12252162]\n",
      "[0.10161836 0.02177798 0.12252162]\n"
     ]
    }
   ],
   "source": [
    "# test 1\n",
    "import numpy as np\n",
    "A = np.array([[ 62,   4, -52],\n",
    " [  4,   4,  -4],\n",
    " [-52,  -4,  44]])\n",
    "\n",
    "w, V = metnum.get_first_eigenvalues(A, 3, 5000, 1e-8)\n",
    "\n",
    "for i in range(len(A)):\n",
    "    print(np.allclose(A @ V[:, i], w[i] * V[:,i]))\n",
    "    print(A @ V[:, i])\n",
    "    print(w[i] * V[:,i])"
   ]
  },
  {
   "cell_type": "code",
   "execution_count": 18,
   "id": "0869fe2e",
   "metadata": {},
   "outputs": [],
   "source": [
    "def get_x_by_label(data, labels, label ):\n",
    "    result_x = []\n",
    "    result_y = []\n",
    "    for i in range(0,len(data)):\n",
    "        if (labels[i] == label):\n",
    "            result_x.append(data[i][0])\n",
    "            result_y.append(data[i][1])\n",
    "    return result_x, result_y"
   ]
  },
  {
   "cell_type": "code",
   "execution_count": 84,
   "id": "d357a619",
   "metadata": {},
   "outputs": [
    {
     "name": "stdout",
     "output_type": "stream",
     "text": [
      "Accuracy: 0.6\n"
     ]
    }
   ],
   "source": [
    "# Test 2 PCA\n",
    "filename = \"../data/train.csv\"\n",
    "alpha = 2\n",
    "k = 1\n",
    "total_instances = 100\n",
    "train_percentage = 0.95\n",
    "num_iter = 1000\n",
    "epsilon = 1e-10\n",
    "\n",
    "X, y = get_data_set(filename, total_instances)\n",
    "\n",
    "# take some instances for train and other for validation\n",
    "limit = int(train_percentage * X.shape[0]) \n",
    "\n",
    "X_train, label_train = X[:limit], y[:limit]\n",
    "X_val, label_val = X[limit:], y[limit:]\n",
    "\n",
    "assert len(X_train) == len(label_train)\n",
    "assert len(X_val) == len(label_val)\n",
    "\n",
    "clf = metnum.KNNClassifier(k)\n",
    "\n",
    "pca = metnum.PCA(alpha, num_iter, epsilon)\n",
    "pca.fit(X_train)\n",
    "\n",
    "X_train = pca.transform(X_train)\n",
    "X_val = pca.transform(X_val)\n",
    "\n",
    "clf.fit(X_train, label_train) \n",
    "\n",
    "from sklearn.metrics import accuracy_score\n",
    "label_pred = clf.predict(X_val)\n",
    "\n",
    "acc = accuracy_score(label_val, label_pred)\n",
    "print(\"Accuracy: {}\".format(acc))\n",
    "\n",
    "\n"
   ]
  },
  {
   "cell_type": "code",
   "execution_count": 90,
   "id": "2b41218e",
   "metadata": {},
   "outputs": [
    {
     "data": {
      "image/png": "[encoded data removed]",
      "text/plain": [
       "<Figure size 432x288 with 1 Axes>"
      ]
     },
     "metadata": {
      "needs_background": "light"
     },
     "output_type": "display_data"
    }
   ],
   "source": [
    "plt.scatter(X_train[:,0], X_train[:,1],s=10 ,c = label_train, alpha = 1)\n",
    "plt.scatter(X_val[:,0], X_val[:,1], c = label_pred, s = 50, marker='^', alpha = 0.8)\n",
    "\n",
    "plt.show()\n"
   ]
  },
  {
   "cell_type": "markdown",
   "id": "a832f615",
   "metadata": {},
   "source": [
    "# Implementación\n",
    "- En el metodo de la potencia verificamos al final que se trate de un autovector de X con precision epsilon\n",
    "- "
   ]
  },
  {
   "cell_type": "markdown",
   "id": "78323dc0",
   "metadata": {},
   "source": [
    "# Metodo para parar el metodo de la potencia\n",
    "- research\n",
    "- - http://www.cse.psu.edu/~b58/cse456/lecture11.pdf\n",
    "- - || wk - wk+1 || inf < e\n",
    "- - https://www-users.cs.umn.edu/~saad/eig_book_2ndEd.pdf\n",
    "- - pag 59(69) seccion 3.2: r = Au~ - lambda~u~, r es el vector residual\n",
    "\n",
    "- - talvez se puede usar lambda -> descartado porque habia que computar el autovalor adentro del ciclo en cada iteracion, lo cual es cosotoso.\n",
    "- elegir 2/3 metodos y evaluar su eficiencia en base a la perfomance de tiempo y a distancia de los resultados obtenidos"
   ]
  },
  {
   "cell_type": "code",
   "execution_count": 5,
   "id": "736d34e2",
   "metadata": {},
   "outputs": [
    {
     "name": "stderr",
     "output_type": "stream",
     "text": [
      " 33%|███▎      | 1/3 [00:08<00:16,  8.22s/it]"
     ]
    },
    {
     "name": "stdout",
     "output_type": "stream",
     "text": [
      "Accuracy: 0.923\n",
      "Iteration:  1000  time:  8.2160\n"
     ]
    },
    {
     "name": "stderr",
     "output_type": "stream",
     "text": [
      " 67%|██████▋   | 2/3 [00:19<00:09,  9.74s/it]"
     ]
    },
    {
     "name": "stdout",
     "output_type": "stream",
     "text": [
      "Accuracy: 0.923\n",
      "Iteration:  2000  time:  10.8136\n"
     ]
    },
    {
     "name": "stderr",
     "output_type": "stream",
     "text": [
      "100%|██████████| 3/3 [00:31<00:00, 10.44s/it]"
     ]
    },
    {
     "name": "stdout",
     "output_type": "stream",
     "text": [
      "Accuracy: 0.923\n",
      "Iteration:  3000  time:  12.2737\n",
      "CPU times: user 30.7 s, sys: 762 ms, total: 31.4 s\n",
      "Wall time: 31.3 s\n"
     ]
    },
    {
     "name": "stderr",
     "output_type": "stream",
     "text": [
      "\n"
     ]
    }
   ],
   "source": [
    "%%time\n",
    "# Sin método de terminación\n",
    "for iterations in tqdm([1000, 2000, 3000]):\n",
    "    time_init = time.perf_counter()\n",
    "    main(filename, 1, 15, \"KNN_PCA\", 5000, iterations, 0.8, 1e-8)\n",
    "    time_end = time.perf_counter()\n",
    "    print(\"Iteration: \", iterations, \" time: \", f\"{time_end- time_init:0.4f}\")\n",
    "\n",
    "# Accuracy: 0.923\n",
    "# Iteration:  1000  time:  8.2160\n",
    "        \n",
    "# Accuracy: 0.923\n",
    "# Iteration:  2000  time:  10.8136\n",
    "        \n",
    "# Accuracy: 0.923\n",
    "# Iteration:  3000  time:  12.2737"
   ]
  },
  {
   "cell_type": "code",
   "execution_count": 4,
   "id": "d4a35950",
   "metadata": {},
   "outputs": [
    {
     "name": "stderr",
     "output_type": "stream",
     "text": [
      " 33%|███▎      | 1/3 [00:05<00:10,  5.42s/it]"
     ]
    },
    {
     "name": "stdout",
     "output_type": "stream",
     "text": [
      "Accuracy: 0.923\n",
      "Iteration:  1000  time:  5.4148\n"
     ]
    },
    {
     "name": "stderr",
     "output_type": "stream",
     "text": [
      " 67%|██████▋   | 2/3 [00:10<00:05,  5.05s/it]"
     ]
    },
    {
     "name": "stdout",
     "output_type": "stream",
     "text": [
      "Accuracy: 0.923\n",
      "Iteration:  2000  time:  4.7880\n"
     ]
    },
    {
     "name": "stderr",
     "output_type": "stream",
     "text": [
      "100%|██████████| 3/3 [00:14<00:00,  4.98s/it]"
     ]
    },
    {
     "name": "stdout",
     "output_type": "stream",
     "text": [
      "Accuracy: 0.923\n",
      "Iteration:  3000  time:  4.7343\n"
     ]
    },
    {
     "name": "stderr",
     "output_type": "stream",
     "text": [
      "\n"
     ]
    }
   ],
   "source": [
    "# || wk - wk+1 || inf < e\n",
    "for iterations in tqdm([1000, 2000, 3000]):\n",
    "    time_init = time.perf_counter()\n",
    "    main(filename, 1, 15, \"KNN_PCA\", 5000, iterations, 0.8, 1e-8)\n",
    "    time_end = time.perf_counter()\n",
    "    print(\"Iteration: \", iterations, \" time: \", f\"{time_end- time_init:0.4f}\")\n",
    "    \n",
    "# considerar que b es random por eso los resultados\n",
    "# Accuracy: 0.923\n",
    "# Iteration:  1000  time:  4.7722\n",
    "        \n",
    "# Accuracy: 0.923\n",
    "# Iteration:  2000  time:  4.5494\n",
    "        \n",
    "# Accuracy: 0.923\n",
    "# Iteration:  3000  time:  4.5293"
   ]
  },
  {
   "cell_type": "code",
   "execution_count": 5,
   "id": "88fe8a46",
   "metadata": {},
   "outputs": [
    {
     "name": "stderr",
     "output_type": "stream",
     "text": [
      " 33%|███▎      | 1/3 [00:06<00:13,  6.97s/it]"
     ]
    },
    {
     "name": "stdout",
     "output_type": "stream",
     "text": [
      "Accuracy: 0.923\n",
      "Iteration:  1000  time:  6.9683\n"
     ]
    },
    {
     "name": "stderr",
     "output_type": "stream",
     "text": [
      " 67%|██████▋   | 2/3 [00:13<00:06,  6.60s/it]"
     ]
    },
    {
     "name": "stdout",
     "output_type": "stream",
     "text": [
      "Accuracy: 0.923\n",
      "Iteration:  2000  time:  6.3405\n"
     ]
    },
    {
     "name": "stderr",
     "output_type": "stream",
     "text": [
      "100%|██████████| 3/3 [00:19<00:00,  6.45s/it]"
     ]
    },
    {
     "name": "stdout",
     "output_type": "stream",
     "text": [
      "Accuracy: 0.923\n",
      "Iteration:  3000  time:  6.0369\n"
     ]
    },
    {
     "name": "stderr",
     "output_type": "stream",
     "text": [
      "\n"
     ]
    }
   ],
   "source": [
    "# pag 59(69) seccion 3.2: r = Au~ - lambda~u~, r es el vector residual\n",
    "for iterations in tqdm([1000, 2000, 3000]):\n",
    "    time_init = time.perf_counter()\n",
    "    main(filename, 1, 15, \"KNN_PCA\", 5000, iterations, 0.8, 1e-8)\n",
    "    time_end = time.perf_counter()\n",
    "    print(\"Iteration: \", iterations, \" time: \", f\"{time_end- time_init:0.4f}\")\n",
    "    \n",
    "# Accuracy: 0.923\n",
    "# Iteration:  1000  time:  6.3910\n",
    "        \n",
    "# Accuracy: 0.923\n",
    "# Iteration:  2000  time:  6.1160\n",
    "        \n",
    "# Accuracy: 0.923\n",
    "# Iteration:  3000  time:  6.4459  "
   ]
  },
  {
   "cell_type": "markdown",
   "id": "4bd606b2",
   "metadata": {},
   "source": [
    "**Decidimos quedarnos con el primer criterio ya que al no calcular los autovalores en cada iteracíon obtuvo una perfomance mejor que el 2do criterio de finalizacion para el método de la potencia. Y ademas observamos que las iteraciones se vieron altamente reducidas(Mejora con la cantidad de iteraciones, ya que cuando converge el resto de las iteraciones son innecesarias)**"
   ]
  },
  {
   "cell_type": "markdown",
   "id": "8cf9491b",
   "metadata": {},
   "source": [
    "# Experimentar con la k\n",
    "- Encontrar primero del 1 al 200 de a saltos de a 10\n",
    "- Hipotesis: va a estar entre los primeros ya que tener en cuenta demasiados puntos mas cercanos deja de tener sentido\n",
    "- Luego concluir que esta entre los primeros y hacer del 1 al 20"
   ]
  },
  {
   "cell_type": "markdown",
   "id": "89c9a7d7",
   "metadata": {},
   "source": [
    "*Vamos a experimentar con: Intancias 10000, porcentage 0.8, epsilon 1e-8, iteraciones 1000(Si en 1000 no convergio nos conviene tomar un nuevo X0)*"
   ]
  },
  {
   "cell_type": "markdown",
   "id": "3d55cd21",
   "metadata": {},
   "source": [
    "## KNN sin PCA"
   ]
  },
  {
   "cell_type": "code",
   "execution_count": 9,
   "id": "ed9fb03e",
   "metadata": {},
   "outputs": [],
   "source": [
    "def plot_accuracy_KNN(filename, title):\n",
    "    columns = [\"k\", \"time\", \"acc\"]\n",
    "    df = pd.read_csv(filename, names=columns)\n",
    "\n",
    "    ks = df[\"k\"]\n",
    "    accuracy = df[\"acc\"]\n",
    "    \n",
    "    plt.plot(ks, accuracy, 'o-')\n",
    "    plt.xlabel(\"k\")\n",
    "    plt.ylabel(\"accuracy\")\n",
    "    plt.title(title)\n",
    "    \n",
    "    plt.show()\n",
    "    "
   ]
  },
  {
   "cell_type": "code",
   "execution_count": 5,
   "id": "a7c392f6",
   "metadata": {},
   "outputs": [
    {
     "name": "stderr",
     "output_type": "stream",
     "text": [
      "  5%|▍         | 1/21 [00:18<06:03, 18.18s/it]"
     ]
    },
    {
     "name": "stdout",
     "output_type": "stream",
     "text": [
      "Accuracy: 0.952\n"
     ]
    },
    {
     "name": "stderr",
     "output_type": "stream",
     "text": [
      " 10%|▉         | 2/21 [00:37<05:55, 18.71s/it]"
     ]
    },
    {
     "name": "stdout",
     "output_type": "stream",
     "text": [
      "Accuracy: 0.9385\n"
     ]
    },
    {
     "name": "stderr",
     "output_type": "stream",
     "text": [
      " 14%|█▍        | 3/21 [00:56<05:38, 18.80s/it]"
     ]
    },
    {
     "name": "stdout",
     "output_type": "stream",
     "text": [
      "Accuracy: 0.934\n"
     ]
    },
    {
     "name": "stderr",
     "output_type": "stream",
     "text": [
      " 19%|█▉        | 4/21 [01:14<05:18, 18.74s/it]"
     ]
    },
    {
     "name": "stdout",
     "output_type": "stream",
     "text": [
      "Accuracy: 0.924\n"
     ]
    },
    {
     "name": "stderr",
     "output_type": "stream",
     "text": [
      " 24%|██▍       | 5/21 [01:33<05:00, 18.80s/it]"
     ]
    },
    {
     "name": "stdout",
     "output_type": "stream",
     "text": [
      "Accuracy: 0.9145\n"
     ]
    },
    {
     "name": "stderr",
     "output_type": "stream",
     "text": [
      " 29%|██▊       | 6/21 [01:53<04:45, 19.02s/it]"
     ]
    },
    {
     "name": "stdout",
     "output_type": "stream",
     "text": [
      "Accuracy: 0.9095\n"
     ]
    },
    {
     "name": "stderr",
     "output_type": "stream",
     "text": [
      " 33%|███▎      | 7/21 [02:12<04:29, 19.22s/it]"
     ]
    },
    {
     "name": "stdout",
     "output_type": "stream",
     "text": [
      "Accuracy: 0.9035\n"
     ]
    },
    {
     "name": "stderr",
     "output_type": "stream",
     "text": [
      " 38%|███▊      | 8/21 [02:32<04:12, 19.42s/it]"
     ]
    },
    {
     "name": "stdout",
     "output_type": "stream",
     "text": [
      "Accuracy: 0.899\n"
     ]
    },
    {
     "name": "stderr",
     "output_type": "stream",
     "text": [
      " 43%|████▎     | 9/21 [02:53<03:58, 19.89s/it]"
     ]
    },
    {
     "name": "stdout",
     "output_type": "stream",
     "text": [
      "Accuracy: 0.893\n"
     ]
    },
    {
     "name": "stderr",
     "output_type": "stream",
     "text": [
      " 48%|████▊     | 10/21 [03:14<03:43, 20.30s/it]"
     ]
    },
    {
     "name": "stdout",
     "output_type": "stream",
     "text": [
      "Accuracy: 0.8875\n"
     ]
    },
    {
     "name": "stderr",
     "output_type": "stream",
     "text": [
      " 52%|█████▏    | 11/21 [03:36<03:28, 20.80s/it]"
     ]
    },
    {
     "name": "stdout",
     "output_type": "stream",
     "text": [
      "Accuracy: 0.884\n"
     ]
    },
    {
     "name": "stderr",
     "output_type": "stream",
     "text": [
      " 57%|█████▋    | 12/21 [03:59<03:12, 21.37s/it]"
     ]
    },
    {
     "name": "stdout",
     "output_type": "stream",
     "text": [
      "Accuracy: 0.8785\n"
     ]
    },
    {
     "name": "stderr",
     "output_type": "stream",
     "text": [
      " 62%|██████▏   | 13/21 [04:22<02:55, 21.89s/it]"
     ]
    },
    {
     "name": "stdout",
     "output_type": "stream",
     "text": [
      "Accuracy: 0.873\n"
     ]
    },
    {
     "name": "stderr",
     "output_type": "stream",
     "text": [
      " 67%|██████▋   | 14/21 [04:45<02:36, 22.34s/it]"
     ]
    },
    {
     "name": "stdout",
     "output_type": "stream",
     "text": [
      "Accuracy: 0.8695\n"
     ]
    },
    {
     "name": "stderr",
     "output_type": "stream",
     "text": [
      " 71%|███████▏  | 15/21 [05:09<02:16, 22.78s/it]"
     ]
    },
    {
     "name": "stdout",
     "output_type": "stream",
     "text": [
      "Accuracy: 0.869\n"
     ]
    },
    {
     "name": "stderr",
     "output_type": "stream",
     "text": [
      " 76%|███████▌  | 16/21 [05:34<01:56, 23.31s/it]"
     ]
    },
    {
     "name": "stdout",
     "output_type": "stream",
     "text": [
      "Accuracy: 0.864\n"
     ]
    },
    {
     "name": "stderr",
     "output_type": "stream",
     "text": [
      " 81%|████████  | 17/21 [05:59<01:35, 23.87s/it]"
     ]
    },
    {
     "name": "stdout",
     "output_type": "stream",
     "text": [
      "Accuracy: 0.8615\n"
     ]
    },
    {
     "name": "stderr",
     "output_type": "stream",
     "text": [
      " 86%|████████▌ | 18/21 [06:24<01:12, 24.26s/it]"
     ]
    },
    {
     "name": "stdout",
     "output_type": "stream",
     "text": [
      "Accuracy: 0.8565\n"
     ]
    },
    {
     "name": "stderr",
     "output_type": "stream",
     "text": [
      " 90%|█████████ | 19/21 [06:50<00:49, 24.66s/it]"
     ]
    },
    {
     "name": "stdout",
     "output_type": "stream",
     "text": [
      "Accuracy: 0.8525\n"
     ]
    },
    {
     "name": "stderr",
     "output_type": "stream",
     "text": [
      " 95%|█████████▌| 20/21 [07:16<00:25, 25.31s/it]"
     ]
    },
    {
     "name": "stdout",
     "output_type": "stream",
     "text": [
      "Accuracy: 0.848\n"
     ]
    },
    {
     "name": "stderr",
     "output_type": "stream",
     "text": [
      "100%|██████████| 21/21 [07:44<00:00, 22.10s/it]"
     ]
    },
    {
     "name": "stdout",
     "output_type": "stream",
     "text": [
      "Accuracy: 0.844\n"
     ]
    },
    {
     "name": "stderr",
     "output_type": "stream",
     "text": [
      "\n"
     ]
    }
   ],
   "source": [
    "name = \"../dataExp/expKNN_1-200.csv\"\n",
    "accuracy = []\n",
    "times = []\n",
    "\n",
    "total_instances = 10000\n",
    "it_range = [1] + list(range(10,201,10))\n",
    "                    \n",
    "for k in tqdm(it_range):\n",
    "    time_init = time.perf_counter()\n",
    "    acc = main(\"../data/train.csv\", k, 0, \"KNN\", total_instances, 1000, 0.8, 1e-8)\n",
    "    time_end = time.perf_counter()\n",
    "    \n",
    "    times.append(time_end-time_init)\n",
    "    accuracy.append(acc)\n",
    "np.savetxt(name, np.array([it_range, times, accuracy]).transpose(), delimiter=\",\")"
   ]
  },
  {
   "cell_type": "code",
   "execution_count": 10,
   "id": "d7f87615",
   "metadata": {},
   "outputs": [
    {
     "data": {
      "image/png": "[encoded data removed]",
      "text/plain": [
       "<Figure size 432x288 with 1 Axes>"
      ]
     },
     "metadata": {
      "needs_background": "light"
     },
     "output_type": "display_data"
    }
   ],
   "source": [
    "name = \"../dataExp/expKNN_1-200.csv\"\n",
    "plot_accuracy_KNN(name, \"Accuracy en función de k entre 1 y 200 con saltos de 10\")"
   ]
  },
  {
   "cell_type": "code",
   "execution_count": 7,
   "id": "9fb5b2fc",
   "metadata": {},
   "outputs": [
    {
     "name": "stderr",
     "output_type": "stream",
     "text": [
      " 10%|█         | 1/10 [00:16<02:29, 16.58s/it]"
     ]
    },
    {
     "name": "stdout",
     "output_type": "stream",
     "text": [
      "Accuracy: 0.952\n"
     ]
    },
    {
     "name": "stderr",
     "output_type": "stream",
     "text": [
      " 20%|██        | 2/10 [00:33<02:14, 16.79s/it]"
     ]
    },
    {
     "name": "stdout",
     "output_type": "stream",
     "text": [
      "Accuracy: 0.9325\n"
     ]
    },
    {
     "name": "stderr",
     "output_type": "stream",
     "text": [
      " 30%|███       | 3/10 [00:50<01:58, 16.91s/it]"
     ]
    },
    {
     "name": "stdout",
     "output_type": "stream",
     "text": [
      "Accuracy: 0.9505\n"
     ]
    },
    {
     "name": "stderr",
     "output_type": "stream",
     "text": [
      " 40%|████      | 4/10 [01:07<01:41, 16.90s/it]"
     ]
    },
    {
     "name": "stdout",
     "output_type": "stream",
     "text": [
      "Accuracy: 0.945\n"
     ]
    },
    {
     "name": "stderr",
     "output_type": "stream",
     "text": [
      " 50%|█████     | 5/10 [01:24<01:25, 17.07s/it]"
     ]
    },
    {
     "name": "stdout",
     "output_type": "stream",
     "text": [
      "Accuracy: 0.9525\n"
     ]
    },
    {
     "name": "stderr",
     "output_type": "stream",
     "text": [
      " 60%|██████    | 6/10 [01:42<01:08, 17.21s/it]"
     ]
    },
    {
     "name": "stdout",
     "output_type": "stream",
     "text": [
      "Accuracy: 0.946\n"
     ]
    },
    {
     "name": "stderr",
     "output_type": "stream",
     "text": [
      " 70%|███████   | 7/10 [02:00<00:52, 17.37s/it]"
     ]
    },
    {
     "name": "stdout",
     "output_type": "stream",
     "text": [
      "Accuracy: 0.9445\n"
     ]
    },
    {
     "name": "stderr",
     "output_type": "stream",
     "text": [
      " 80%|████████  | 8/10 [02:17<00:34, 17.48s/it]"
     ]
    },
    {
     "name": "stdout",
     "output_type": "stream",
     "text": [
      "Accuracy: 0.944\n"
     ]
    },
    {
     "name": "stderr",
     "output_type": "stream",
     "text": [
      " 90%|█████████ | 9/10 [02:35<00:17, 17.64s/it]"
     ]
    },
    {
     "name": "stdout",
     "output_type": "stream",
     "text": [
      "Accuracy: 0.943\n"
     ]
    },
    {
     "name": "stderr",
     "output_type": "stream",
     "text": [
      "100%|██████████| 10/10 [02:52<00:00, 17.30s/it]"
     ]
    },
    {
     "name": "stdout",
     "output_type": "stream",
     "text": [
      "Accuracy: 0.9385\n"
     ]
    },
    {
     "name": "stderr",
     "output_type": "stream",
     "text": [
      "\n"
     ]
    }
   ],
   "source": [
    "name_1_10 = \"../dataExp/expKNN_1-10.csv\"\n",
    "accuracy_1_10 = []\n",
    "times_1_10 = []\n",
    "\n",
    "total_instances = 10000\n",
    "it_range = range(1,11)\n",
    "\n",
    "for k in tqdm(it_range):\n",
    "    time_init = time.perf_counter()\n",
    "    acc = main(\"../data/train.csv\", k, 0, \"KNN\", total_instances, 1000, 0.8, 1e-8)\n",
    "    time_end = time.perf_counter()\n",
    "    \n",
    "    times_1_10.append(time_end-time_init)\n",
    "    accuracy_1_10.append(acc)\n",
    "np.savetxt(name_1_10, np.array([it_range, times_1_10, accuracy_1_10]).transpose(), delimiter=\",\")"
   ]
  },
  {
   "cell_type": "code",
   "execution_count": 11,
   "id": "a99e108b",
   "metadata": {},
   "outputs": [
    {
     "data": {
      "image/png": "[encoded data removed]",
      "text/plain": [
       "<Figure size 432x288 with 1 Axes>"
      ]
     },
     "metadata": {
      "needs_background": "light"
     },
     "output_type": "display_data"
    }
   ],
   "source": [
    "name_1_10 = \"../dataExp/expKNN_1-10.csv\"\n",
    "plot_accuracy_KNN(name_1_10, \"Accuracy en función de k entre 1 y 10\")"
   ]
  },
  {
   "cell_type": "markdown",
   "id": "39aa31a0",
   "metadata": {},
   "source": [
    "## KNN con PCA \n",
    "0 < alpha < 500, [1, 2, 3, 4, 5, 10, 20, 30, 40, 50, 100, 200, 300, 400, 500] \n",
    "\n",
    "0 < k < 200 [1, 2, 3, 4, 5, 10, 20, 30, 40, 50, 100, 200]"
   ]
  },
  {
   "cell_type": "code",
   "execution_count": 9,
   "id": "7d92829a",
   "metadata": {},
   "outputs": [],
   "source": [
    "def main_pca(filename, alpha, total_instances = 32000, num_iter = 1000, train_percentage = 0.8, epsilon = 1e-6 ):\n",
    "    X, y = get_data_set(filename, total_instances)\n",
    "    \n",
    "    # take some instances for train and other for validation\n",
    "    limit = int(train_percentage * X.shape[0]) \n",
    "\n",
    "    X_train, label_train = X[:limit], y[:limit]\n",
    "    X_val, label_val = X[limit:], y[limit:]\n",
    "\n",
    "    assert len(X_train) == len(label_train)\n",
    "    assert len(X_val) == len(label_val)\n",
    "\n",
    "        \n",
    "    pca = metnum.PCA(alpha, num_iter, epsilon)\n",
    "    pca.fit(X_train)\n",
    "\n",
    "    X_train = pca.transform(X_train)\n",
    "    X_val = pca.transform(X_val)\n",
    "\n",
    "    return X_train, X_val, label_train, label_val\n",
    "\n",
    "def main_knn(k, X_train, X_val, label_train, label_val):\n",
    "    clf = metnum.KNNClassifier(k)\n",
    "    clf.fit(X_train, label_train) \n",
    "\n",
    "    from sklearn.metrics import accuracy_score\n",
    "    label_pred = clf.predict(X_val)\n",
    "\n",
    "    acc = accuracy_score(label_val, label_pred)\n",
    "    print(\"Accuracy: {}\".format(acc))\n",
    "    return acc\n",
    "\n",
    "# experimenta con un set de alpha y ks\n",
    "def experimentacion_k_alpha(namefile, ks, alphas, total_intances):\n",
    "    accuracy_k_alpha_complete = []\n",
    "    times_k_alpha_complete = []\n",
    "    ks_complete = []\n",
    "    alphas_complete = []\n",
    "    cant_it = 2500\n",
    "    eps = 1e-6\n",
    "    \n",
    "    with tqdm(total=len(ks) * len(alphas)) as pbar:\n",
    "        for alpha in alphas:\n",
    "            time_init_pca = time.perf_counter()\n",
    "            X_train, X_val, label_train, label_val = main_pca(\"../data/train.csv\", alpha, total_instances, cant_it, 0.8, eps)\n",
    "            time_end_pca = time.perf_counter()\n",
    "            time_pca = time_end_pca - time_init_pca\n",
    "            \n",
    "            for k in ks:\n",
    "                time_init = time.perf_counter()\n",
    "                acc = main_knn(k, X_train, X_val, label_train, label_val)\n",
    "                time_end = time.perf_counter()\n",
    "                print(f\"K: {k}, Alpha: {alpha}\")\n",
    "\n",
    "                times_k_alpha_complete.append(time_end-time_init+time_pca)\n",
    "                accuracy_k_alpha_complete.append(acc)\n",
    "                ks_complete.append(k)\n",
    "                alphas_complete.append(alpha)\n",
    "\n",
    "                pbar.update(1)\n",
    "   \n",
    "    np.savetxt(namefile, np.array([ks_complete, alphas_complete, times_k_alpha_complete, accuracy_k_alpha_complete]).transpose(), delimiter=\",\")"
   ]
  },
  {
   "cell_type": "code",
   "execution_count": 12,
   "id": "71953e3e",
   "metadata": {},
   "outputs": [],
   "source": [
    "# experimenta con un set de alpha y ks\n",
    "def experimentacion_k_alpha_deprecated(namefile, ks, alphas, total_intances):\n",
    "    accuracy_k_alpha_complete = []\n",
    "    times_k_alpha_complete = []\n",
    "    ks_complete = []\n",
    "    alphas_complete = []\n",
    "\n",
    "    with tqdm(total=len(ks) * len(alphas)) as pbar:\n",
    "        for k in ks:\n",
    "            for alpha in alphas:\n",
    "                time_init = time.perf_counter()\n",
    "                acc = main(\"../data/train.csv\", k, alpha, \"KNN_PCA\", total_instances, 2500, 0.8, 1e-6)\n",
    "                time_end = time.perf_counter()\n",
    "                print(f\"K: {k}, Alpha: {alpha}\")\n",
    "\n",
    "                times_k_alpha_complete.append(time_end-time_init)\n",
    "                accuracy_k_alpha_complete.append(acc)\n",
    "                ks_complete.append(k)\n",
    "                alphas_complete.append(alpha)\n",
    "\n",
    "                pbar.update(1)\n",
    "\n",
    "    np.savetxt(namefile, np.array([ks_complete, alphas_complete, times_k_alpha_complete, accuracy_k_alpha_complete]).transpose(), delimiter=\",\")"
   ]
  },
  {
   "cell_type": "code",
   "execution_count": 43,
   "id": "6c9c792d",
   "metadata": {},
   "outputs": [],
   "source": [
    "import matplotlib.pyplot as plt\n",
    "import numpy as np\n",
    "from pylab import rcParams\n",
    "\n",
    "# Grafica los datos obtenidos para los distintos k y alpha\n",
    "def plot_scatter(filename, title, size = (7,4)):\n",
    "    columns = [\"k\", \"alpha\", \"time\", \"acc\"]\n",
    "    df = pd.read_csv(filename, names=columns)\n",
    "    plot_scatter_df(df, title, size)\n",
    "    \n",
    "# Grafica los datos obtenidos para los distintos k y alpha\n",
    "def plot_scatter_df(df, title, size = (7,4)):\n",
    "    x = [str(i)[0:-2] for i in df[\"alpha\"]]\n",
    "    y = [str(i)[0:-2] for i in df[\"k\"]]\n",
    "\n",
    "    fig = plt.figure()\n",
    "    colour = df[\"acc\"]\n",
    "    plt.scatter(x, y, s = 70, c = colour, alpha = 1, cmap=\"rainbow\")\n",
    "    plt.colorbar(label=\"accuracy\")\n",
    "    plt.xlabel(\"alpha\")\n",
    "    plt.ylabel('k',rotation=0)\n",
    "    plt.title(title)\n",
    "    plt.rcParams[\"figure.figsize\"] = size\n",
    "    plt.show()"
   ]
  },
  {
   "cell_type": "code",
   "execution_count": 11,
   "id": "e1aa3a71",
   "metadata": {},
   "outputs": [
    {
     "name": "stderr",
     "output_type": "stream",
     "text": [
      "  1%|▏         | 2/144 [00:05<05:03,  2.14s/it]"
     ]
    },
    {
     "name": "stdout",
     "output_type": "stream",
     "text": [
      "Accuracy: 0.2515\n",
      "K: 1, Alpha: 1\n",
      "Accuracy: 0.2615\n",
      "K: 2, Alpha: 1\n"
     ]
    },
    {
     "name": "stderr",
     "output_type": "stream",
     "text": [
      "  2%|▏         | 3/144 [00:05<02:58,  1.27s/it]"
     ]
    },
    {
     "name": "stdout",
     "output_type": "stream",
     "text": [
      "Accuracy: 0.2735\n",
      "K: 3, Alpha: 1\n"
     ]
    },
    {
     "name": "stderr",
     "output_type": "stream",
     "text": [
      "  3%|▎         | 4/144 [00:05<02:02,  1.14it/s]"
     ]
    },
    {
     "name": "stdout",
     "output_type": "stream",
     "text": [
      "Accuracy: 0.2725\n",
      "K: 4, Alpha: 1\n"
     ]
    },
    {
     "name": "stderr",
     "output_type": "stream",
     "text": [
      "  3%|▎         | 5/144 [00:05<01:34,  1.47it/s]"
     ]
    },
    {
     "name": "stdout",
     "output_type": "stream",
     "text": [
      "Accuracy: 0.277\n",
      "K: 5, Alpha: 1\n"
     ]
    },
    {
     "name": "stderr",
     "output_type": "stream",
     "text": [
      "  4%|▍         | 6/144 [00:06<01:29,  1.54it/s]"
     ]
    },
    {
     "name": "stdout",
     "output_type": "stream",
     "text": [
      "Accuracy: 0.2985\n",
      "K: 10, Alpha: 1\n"
     ]
    },
    {
     "name": "stderr",
     "output_type": "stream",
     "text": [
      "  4%|▍         | 6/144 [00:07<02:55,  1.27s/it]\n"
     ]
    },
    {
     "ename": "KeyboardInterrupt",
     "evalue": "",
     "output_type": "error",
     "traceback": [
      "\u001b[0;31m---------------------------------------------------------------------------\u001b[0m",
      "\u001b[0;31mKeyboardInterrupt\u001b[0m                         Traceback (most recent call last)",
      "\u001b[0;32m<ipython-input-11-13251a179220>\u001b[0m in \u001b[0;36m<module>\u001b[0;34m\u001b[0m\n\u001b[1;32m      4\u001b[0m \u001b[0malphas\u001b[0m \u001b[0;34m=\u001b[0m \u001b[0;34m[\u001b[0m\u001b[0;36m1\u001b[0m\u001b[0;34m,\u001b[0m \u001b[0;36m2\u001b[0m\u001b[0;34m,\u001b[0m \u001b[0;36m3\u001b[0m\u001b[0;34m,\u001b[0m \u001b[0;36m4\u001b[0m\u001b[0;34m,\u001b[0m \u001b[0;36m5\u001b[0m\u001b[0;34m,\u001b[0m \u001b[0;36m10\u001b[0m\u001b[0;34m,\u001b[0m \u001b[0;36m20\u001b[0m\u001b[0;34m,\u001b[0m \u001b[0;36m30\u001b[0m\u001b[0;34m,\u001b[0m \u001b[0;36m40\u001b[0m\u001b[0;34m,\u001b[0m \u001b[0;36m50\u001b[0m\u001b[0;34m,\u001b[0m \u001b[0;36m100\u001b[0m\u001b[0;34m,\u001b[0m \u001b[0;36m200\u001b[0m\u001b[0;34m]\u001b[0m\u001b[0;34m\u001b[0m\u001b[0m\n\u001b[1;32m      5\u001b[0m \u001b[0;34m\u001b[0m\u001b[0m\n\u001b[0;32m----> 6\u001b[0;31m \u001b[0mexperimentacion_k_alpha\u001b[0m\u001b[0;34m(\u001b[0m\u001b[0mname_k_alpha_complete\u001b[0m\u001b[0;34m,\u001b[0m \u001b[0mks\u001b[0m\u001b[0;34m,\u001b[0m \u001b[0malphas\u001b[0m\u001b[0;34m,\u001b[0m \u001b[0mtotal_instances\u001b[0m\u001b[0;34m)\u001b[0m\u001b[0;34m\u001b[0m\u001b[0m\n\u001b[0m",
      "\u001b[0;32m<ipython-input-9-5359e8ee69eb>\u001b[0m in \u001b[0;36mexperimentacion_k_alpha\u001b[0;34m(namefile, ks, alphas, total_intances)\u001b[0m\n\u001b[1;32m     49\u001b[0m             \u001b[0;32mfor\u001b[0m \u001b[0mk\u001b[0m \u001b[0;32min\u001b[0m \u001b[0mks\u001b[0m\u001b[0;34m:\u001b[0m\u001b[0;34m\u001b[0m\u001b[0m\n\u001b[1;32m     50\u001b[0m                 \u001b[0mtime_init\u001b[0m \u001b[0;34m=\u001b[0m \u001b[0mtime\u001b[0m\u001b[0;34m.\u001b[0m\u001b[0mperf_counter\u001b[0m\u001b[0;34m(\u001b[0m\u001b[0;34m)\u001b[0m\u001b[0;34m\u001b[0m\u001b[0m\n\u001b[0;32m---> 51\u001b[0;31m                 \u001b[0macc\u001b[0m \u001b[0;34m=\u001b[0m \u001b[0mmain_knn\u001b[0m\u001b[0;34m(\u001b[0m\u001b[0mk\u001b[0m\u001b[0;34m,\u001b[0m \u001b[0mX_train\u001b[0m\u001b[0;34m,\u001b[0m \u001b[0mX_val\u001b[0m\u001b[0;34m,\u001b[0m \u001b[0mlabel_train\u001b[0m\u001b[0;34m,\u001b[0m \u001b[0mlabel_val\u001b[0m\u001b[0;34m)\u001b[0m\u001b[0;34m\u001b[0m\u001b[0m\n\u001b[0m\u001b[1;32m     52\u001b[0m                 \u001b[0mtime_end\u001b[0m \u001b[0;34m=\u001b[0m \u001b[0mtime\u001b[0m\u001b[0;34m.\u001b[0m\u001b[0mperf_counter\u001b[0m\u001b[0;34m(\u001b[0m\u001b[0;34m)\u001b[0m\u001b[0;34m\u001b[0m\u001b[0m\n\u001b[1;32m     53\u001b[0m                 \u001b[0mprint\u001b[0m\u001b[0;34m(\u001b[0m\u001b[0;34mf\"K: {k}, Alpha: {alpha}\"\u001b[0m\u001b[0;34m)\u001b[0m\u001b[0;34m\u001b[0m\u001b[0m\n",
      "\u001b[0;32m<ipython-input-9-5359e8ee69eb>\u001b[0m in \u001b[0;36mmain_knn\u001b[0;34m(k, X_train, X_val, label_train, label_val)\u001b[0m\n\u001b[1;32m     25\u001b[0m \u001b[0;34m\u001b[0m\u001b[0m\n\u001b[1;32m     26\u001b[0m     \u001b[0;32mfrom\u001b[0m \u001b[0msklearn\u001b[0m\u001b[0;34m.\u001b[0m\u001b[0mmetrics\u001b[0m \u001b[0;32mimport\u001b[0m \u001b[0maccuracy_score\u001b[0m\u001b[0;34m\u001b[0m\u001b[0m\n\u001b[0;32m---> 27\u001b[0;31m     \u001b[0mlabel_pred\u001b[0m \u001b[0;34m=\u001b[0m \u001b[0mclf\u001b[0m\u001b[0;34m.\u001b[0m\u001b[0mpredict\u001b[0m\u001b[0;34m(\u001b[0m\u001b[0mX_val\u001b[0m\u001b[0;34m)\u001b[0m\u001b[0;34m\u001b[0m\u001b[0m\n\u001b[0m\u001b[1;32m     28\u001b[0m \u001b[0;34m\u001b[0m\u001b[0m\n\u001b[1;32m     29\u001b[0m     \u001b[0macc\u001b[0m \u001b[0;34m=\u001b[0m \u001b[0maccuracy_score\u001b[0m\u001b[0;34m(\u001b[0m\u001b[0mlabel_val\u001b[0m\u001b[0;34m,\u001b[0m \u001b[0mlabel_pred\u001b[0m\u001b[0;34m)\u001b[0m\u001b[0;34m\u001b[0m\u001b[0m\n",
      "\u001b[0;31mKeyboardInterrupt\u001b[0m: "
     ]
    }
   ],
   "source": [
    "name_k_alpha_complete = \"../dataExp/KNN_PCA_complete.csv\"\n",
    "total_instances = 10000\n",
    "ks = [1, 2, 3, 4, 5, 10, 20, 30, 40, 50, 100, 200]\n",
    "alphas = [1, 2, 3, 4, 5, 10, 20, 30, 40, 50, 100, 200]\n",
    "\n",
    "experimentacion_k_alpha(name_k_alpha_complete, ks, alphas, total_instances)\n"
   ]
  },
  {
   "cell_type": "markdown",
   "id": "f9c44297",
   "metadata": {},
   "source": [
    "- Graficos: 15 graficos con k fijo, acc(alpha)\n",
    "- Mismo grafico todos overlapeados\n",
    "- Alpha en X, k en Y, colorcitos para rangos de acc(rojo, amarrillo verde)\n"
   ]
  },
  {
   "cell_type": "code",
   "execution_count": 44,
   "id": "110de825",
   "metadata": {},
   "outputs": [
    {
     "data": {
      "image/png": "[encoded data removed]",
      "text/plain": [
       "<Figure size 504x288 with 2 Axes>"
      ]
     },
     "metadata": {
      "needs_background": "light"
     },
     "output_type": "display_data"
    }
   ],
   "source": [
    "name_k_alpha_complete = \"../dataExp/KNN_PCA_complete.csv\"\n",
    "plot_scatter(name_k_alpha_complete, \"Accuracy para distintos valores de k y alpha\")\n"
   ]
  },
  {
   "cell_type": "code",
   "execution_count": 47,
   "id": "6dd5a78f",
   "metadata": {},
   "outputs": [
    {
     "data": {
      "image/png": "[encoded data removed]",
      "text/plain": [
       "<Figure size 504x288 with 2 Axes>"
      ]
     },
     "metadata": {
      "needs_background": "light"
     },
     "output_type": "display_data"
    }
   ],
   "source": [
    "name_k_alpha_complete = \"../dataExp/KNN_PCA_complete.csv\"\n",
    "columns = [\"k\", \"alpha\", \"time\", \"acc\"]\n",
    "df = pd.read_csv(name_k_alpha_complete, names=columns)\n",
    "#df_k_limit = df[df[\"k\"] < 10]\n",
    "df_alpha_limit = df[df[\"alpha\"] >= 10] \n",
    "\n",
    "plot_scatter_df(df_alpha_limit, \"Accuracy para distintos valores de k y alpha esparsos\")"
   ]
  },
  {
   "cell_type": "code",
   "execution_count": 48,
   "id": "14a8e1dc",
   "metadata": {},
   "outputs": [
    {
     "data": {
      "image/png": "[encoded data removed]",
      "text/plain": [
       "<Figure size 504x288 with 2 Axes>"
      ]
     },
     "metadata": {
      "needs_background": "light"
     },
     "output_type": "display_data"
    }
   ],
   "source": [
    "name_k_alpha_complete = \"../dataExp/KNN_PCA_complete.csv\"\n",
    "columns = [\"k\", \"alpha\", \"time\", \"acc\"]\n",
    "df = pd.read_csv(name_k_alpha_complete, names=columns)\n",
    "df = df[df[\"k\"] < 20]\n",
    "df = df[df[\"k\"] != 2]\n",
    "df = df[df[\"alpha\"] > 20]\n",
    "df = df[df[\"alpha\"] <= 100]\n",
    "\n",
    "plot_scatter_df(df, \"Accuracy para distintos valores de k y alpha\")"
   ]
  },
  {
   "cell_type": "code",
   "execution_count": 49,
   "id": "ec018258",
   "metadata": {},
   "outputs": [
    {
     "data": {
      "image/png": "[encoded data removed]",
      "text/plain": [
       "<Figure size 504x288 with 2 Axes>"
      ]
     },
     "metadata": {
      "needs_background": "light"
     },
     "output_type": "display_data"
    }
   ],
   "source": [
    "name_k_alpha_complete = \"../dataExp/KNN_PCA_complete.csv\"\n",
    "columns = [\"k\", \"alpha\", \"time\", \"acc\"]\n",
    "df = pd.read_csv(name_k_alpha_complete, names=columns)\n",
    "df = df[df[\"k\"] < 20]\n",
    "df = df[df[\"k\"] != 2]\n",
    "df = df[df[\"alpha\"] >= 100]\n",
    "\n",
    "plot_scatter_df(df, \"Accuracy para distintos valores de k y alpha zona de interés\")"
   ]
  },
  {
   "cell_type": "code",
   "execution_count": 50,
   "id": "43b43e10",
   "metadata": {},
   "outputs": [
    {
     "data": {
      "image/png": "[encoded data removed]",
      "text/plain": [
       "<Figure size 504x288 with 2 Axes>"
      ]
     },
     "metadata": {
      "needs_background": "light"
     },
     "output_type": "display_data"
    }
   ],
   "source": [
    "import matplotlib.pyplot as plt\n",
    "import numpy as np\n",
    "\n",
    "filename = \"../dataExp/KNN_PCA_complete.csv\"\n",
    "\n",
    "# Grafica los datos obtenidos para los distintos k y alpha\n",
    "columns = [\"k\", \"alpha\", \"time\", \"acc\"]\n",
    "df = pd.read_csv(filename, names=columns)\n",
    "df_k_limit = df[df[\"k\"] < 10]\n",
    "df_alpha_limit = df_k_limit[df_k_limit[\"alpha\"] > 10] \n",
    "\n",
    "plot_scatter_df(df_alpha_limit, \"Accuracy para distintos valores de k y alpha zona de interés\")"
   ]
  },
  {
   "cell_type": "code",
   "execution_count": 18,
   "id": "8d401a4c",
   "metadata": {},
   "outputs": [
    {
     "name": "stderr",
     "output_type": "stream",
     "text": [
      "  8%|▊         | 1/12 [11:59<2:11:58, 719.89s/it]"
     ]
    },
    {
     "name": "stdout",
     "output_type": "stream",
     "text": [
      "Accuracy: 0.9525\n",
      "K: 1, Alpha: 400\n"
     ]
    },
    {
     "name": "stderr",
     "output_type": "stream",
     "text": [
      " 17%|█▋        | 2/12 [12:06<50:04, 300.50s/it]  "
     ]
    },
    {
     "name": "stdout",
     "output_type": "stream",
     "text": [
      "Accuracy: 0.933\n",
      "K: 2, Alpha: 400\n"
     ]
    },
    {
     "name": "stderr",
     "output_type": "stream",
     "text": [
      " 25%|██▌       | 3/12 [12:13<24:58, 166.48s/it]"
     ]
    },
    {
     "name": "stdout",
     "output_type": "stream",
     "text": [
      "Accuracy: 0.9505\n",
      "K: 3, Alpha: 400\n"
     ]
    },
    {
     "name": "stderr",
     "output_type": "stream",
     "text": [
      " 33%|███▎      | 4/12 [12:20<13:48, 103.52s/it]"
     ]
    },
    {
     "name": "stdout",
     "output_type": "stream",
     "text": [
      "Accuracy: 0.9465\n",
      "K: 4, Alpha: 400\n"
     ]
    },
    {
     "name": "stderr",
     "output_type": "stream",
     "text": [
      " 42%|████▏     | 5/12 [12:27<08:01, 68.74s/it] "
     ]
    },
    {
     "name": "stdout",
     "output_type": "stream",
     "text": [
      "Accuracy: 0.954\n",
      "K: 5, Alpha: 400\n"
     ]
    },
    {
     "name": "stderr",
     "output_type": "stream",
     "text": [
      " 50%|█████     | 6/12 [12:35<04:46, 47.82s/it]"
     ]
    },
    {
     "name": "stdout",
     "output_type": "stream",
     "text": [
      "Accuracy: 0.9385\n",
      "K: 10, Alpha: 400\n"
     ]
    },
    {
     "name": "stderr",
     "output_type": "stream",
     "text": [
      " 58%|█████▊    | 7/12 [12:42<02:53, 34.71s/it]"
     ]
    },
    {
     "name": "stdout",
     "output_type": "stream",
     "text": [
      "Accuracy: 0.9335\n",
      "K: 20, Alpha: 400\n"
     ]
    },
    {
     "name": "stderr",
     "output_type": "stream",
     "text": [
      " 67%|██████▋   | 8/12 [12:51<01:45, 26.31s/it]"
     ]
    },
    {
     "name": "stdout",
     "output_type": "stream",
     "text": [
      "Accuracy: 0.9255\n",
      "K: 30, Alpha: 400\n"
     ]
    },
    {
     "name": "stderr",
     "output_type": "stream",
     "text": [
      " 75%|███████▌  | 9/12 [13:00<01:02, 20.86s/it]"
     ]
    },
    {
     "name": "stdout",
     "output_type": "stream",
     "text": [
      "Accuracy: 0.916\n",
      "K: 40, Alpha: 400\n"
     ]
    },
    {
     "name": "stderr",
     "output_type": "stream",
     "text": [
      " 83%|████████▎ | 10/12 [13:09<00:34, 17.29s/it]"
     ]
    },
    {
     "name": "stdout",
     "output_type": "stream",
     "text": [
      "Accuracy: 0.9105\n",
      "K: 50, Alpha: 400\n"
     ]
    },
    {
     "name": "stderr",
     "output_type": "stream",
     "text": [
      " 92%|█████████▏| 11/12 [13:21<00:15, 15.62s/it]"
     ]
    },
    {
     "name": "stdout",
     "output_type": "stream",
     "text": [
      "Accuracy: 0.885\n",
      "K: 100, Alpha: 400\n"
     ]
    },
    {
     "name": "stderr",
     "output_type": "stream",
     "text": [
      "100%|██████████| 12/12 [13:38<00:00, 68.17s/it]"
     ]
    },
    {
     "name": "stdout",
     "output_type": "stream",
     "text": [
      "Accuracy: 0.8455\n",
      "K: 200, Alpha: 400\n"
     ]
    },
    {
     "name": "stderr",
     "output_type": "stream",
     "text": [
      "\n"
     ]
    }
   ],
   "source": [
    "name_k_alpha_complete = \"../dataExp/KNN_PCA_complete_400.csv\"\n",
    "total_instances = 10000\n",
    "ks = [1, 2, 3, 4, 5, 10, 20, 30, 40, 50, 100, 200]\n",
    "alphas = [400]\n",
    "\n",
    "experimentacion_k_alpha(name_k_alpha_complete, ks, alphas, total_instances)\n"
   ]
  },
  {
   "cell_type": "code",
   "execution_count": 24,
   "id": "c52fb939",
   "metadata": {},
   "outputs": [
    {
     "name": "stderr",
     "output_type": "stream",
     "text": [
      "  1%|          | 1/190 [00:04<15:10,  4.82s/it]"
     ]
    },
    {
     "name": "stdout",
     "output_type": "stream",
     "text": [
      "Accuracy: 0.8925\n",
      "K: 1, Alpha: 10\n"
     ]
    },
    {
     "name": "stderr",
     "output_type": "stream",
     "text": [
      "  1%|          | 2/190 [00:05<06:39,  2.12s/it]"
     ]
    },
    {
     "name": "stdout",
     "output_type": "stream",
     "text": [
      "Accuracy: 0.8835\n",
      "K: 2, Alpha: 10\n"
     ]
    },
    {
     "name": "stderr",
     "output_type": "stream",
     "text": [
      "  2%|▏         | 3/190 [00:05<04:00,  1.29s/it]"
     ]
    },
    {
     "name": "stdout",
     "output_type": "stream",
     "text": [
      "Accuracy: 0.8985\n",
      "K: 3, Alpha: 10\n"
     ]
    },
    {
     "name": "stderr",
     "output_type": "stream",
     "text": [
      "  2%|▏         | 4/190 [00:05<02:50,  1.09it/s]"
     ]
    },
    {
     "name": "stdout",
     "output_type": "stream",
     "text": [
      "Accuracy: 0.9035\n",
      "K: 4, Alpha: 10\n"
     ]
    },
    {
     "name": "stderr",
     "output_type": "stream",
     "text": [
      "  3%|▎         | 5/190 [00:06<02:14,  1.38it/s]"
     ]
    },
    {
     "name": "stdout",
     "output_type": "stream",
     "text": [
      "Accuracy: 0.911\n",
      "K: 5, Alpha: 10\n"
     ]
    },
    {
     "name": "stderr",
     "output_type": "stream",
     "text": [
      "  3%|▎         | 6/190 [00:06<01:55,  1.59it/s]"
     ]
    },
    {
     "name": "stdout",
     "output_type": "stream",
     "text": [
      "Accuracy: 0.9055\n",
      "K: 6, Alpha: 10\n"
     ]
    },
    {
     "name": "stderr",
     "output_type": "stream",
     "text": [
      "  4%|▎         | 7/190 [00:07<01:46,  1.71it/s]"
     ]
    },
    {
     "name": "stdout",
     "output_type": "stream",
     "text": [
      "Accuracy: 0.9065\n",
      "K: 7, Alpha: 10\n"
     ]
    },
    {
     "name": "stderr",
     "output_type": "stream",
     "text": [
      "  4%|▍         | 8/190 [00:07<01:43,  1.76it/s]"
     ]
    },
    {
     "name": "stdout",
     "output_type": "stream",
     "text": [
      "Accuracy: 0.9105\n",
      "K: 8, Alpha: 10\n"
     ]
    },
    {
     "name": "stderr",
     "output_type": "stream",
     "text": [
      "  5%|▍         | 9/190 [00:08<01:44,  1.74it/s]"
     ]
    },
    {
     "name": "stdout",
     "output_type": "stream",
     "text": [
      "Accuracy: 0.91\n",
      "K: 9, Alpha: 10\n"
     ]
    },
    {
     "name": "stderr",
     "output_type": "stream",
     "text": [
      "  5%|▌         | 10/190 [00:08<01:48,  1.66it/s]"
     ]
    },
    {
     "name": "stdout",
     "output_type": "stream",
     "text": [
      "Accuracy: 0.9095\n",
      "K: 10, Alpha: 10\n"
     ]
    },
    {
     "name": "stderr",
     "output_type": "stream",
     "text": [
      "  6%|▌         | 11/190 [00:14<06:23,  2.14s/it]"
     ]
    },
    {
     "name": "stdout",
     "output_type": "stream",
     "text": [
      "Accuracy: 0.9285\n",
      "K: 1, Alpha: 15\n"
     ]
    },
    {
     "name": "stderr",
     "output_type": "stream",
     "text": [
      "  6%|▋         | 12/190 [00:14<04:41,  1.58s/it]"
     ]
    },
    {
     "name": "stdout",
     "output_type": "stream",
     "text": [
      "Accuracy: 0.925\n",
      "K: 2, Alpha: 15\n"
     ]
    },
    {
     "name": "stderr",
     "output_type": "stream",
     "text": [
      "  7%|▋         | 13/190 [00:15<03:33,  1.20s/it]"
     ]
    },
    {
     "name": "stdout",
     "output_type": "stream",
     "text": [
      "Accuracy: 0.934\n",
      "K: 3, Alpha: 15\n"
     ]
    },
    {
     "name": "stderr",
     "output_type": "stream",
     "text": [
      "  7%|▋         | 14/190 [00:15<02:48,  1.04it/s]"
     ]
    },
    {
     "name": "stdout",
     "output_type": "stream",
     "text": [
      "Accuracy: 0.941\n",
      "K: 4, Alpha: 15\n"
     ]
    },
    {
     "name": "stderr",
     "output_type": "stream",
     "text": [
      "  8%|▊         | 15/190 [00:15<02:20,  1.24it/s]"
     ]
    },
    {
     "name": "stdout",
     "output_type": "stream",
     "text": [
      "Accuracy: 0.9415\n",
      "K: 5, Alpha: 15\n"
     ]
    },
    {
     "name": "stderr",
     "output_type": "stream",
     "text": [
      "  8%|▊         | 16/190 [00:16<02:03,  1.40it/s]"
     ]
    },
    {
     "name": "stdout",
     "output_type": "stream",
     "text": [
      "Accuracy: 0.943\n",
      "K: 6, Alpha: 15\n"
     ]
    },
    {
     "name": "stderr",
     "output_type": "stream",
     "text": [
      "  9%|▉         | 17/190 [00:16<01:54,  1.51it/s]"
     ]
    },
    {
     "name": "stdout",
     "output_type": "stream",
     "text": [
      "Accuracy: 0.937\n",
      "K: 7, Alpha: 15\n"
     ]
    },
    {
     "name": "stderr",
     "output_type": "stream",
     "text": [
      "  9%|▉         | 18/190 [00:17<01:50,  1.56it/s]"
     ]
    },
    {
     "name": "stdout",
     "output_type": "stream",
     "text": [
      "Accuracy: 0.936\n",
      "K: 8, Alpha: 15\n"
     ]
    },
    {
     "name": "stderr",
     "output_type": "stream",
     "text": [
      " 10%|█         | 19/190 [00:18<01:49,  1.56it/s]"
     ]
    },
    {
     "name": "stdout",
     "output_type": "stream",
     "text": [
      "Accuracy: 0.9355\n",
      "K: 9, Alpha: 15\n"
     ]
    },
    {
     "name": "stderr",
     "output_type": "stream",
     "text": [
      " 11%|█         | 20/190 [00:18<01:51,  1.53it/s]"
     ]
    },
    {
     "name": "stdout",
     "output_type": "stream",
     "text": [
      "Accuracy: 0.9385\n",
      "K: 10, Alpha: 15\n"
     ]
    },
    {
     "name": "stderr",
     "output_type": "stream",
     "text": [
      " 11%|█         | 21/190 [00:25<06:29,  2.31s/it]"
     ]
    },
    {
     "name": "stdout",
     "output_type": "stream",
     "text": [
      "Accuracy: 0.951\n",
      "K: 1, Alpha: 20\n"
     ]
    },
    {
     "name": "stderr",
     "output_type": "stream",
     "text": [
      " 12%|█▏        | 22/190 [00:25<04:49,  1.73s/it]"
     ]
    },
    {
     "name": "stdout",
     "output_type": "stream",
     "text": [
      "Accuracy: 0.9425\n",
      "K: 2, Alpha: 20\n"
     ]
    },
    {
     "name": "stderr",
     "output_type": "stream",
     "text": [
      " 12%|█▏        | 23/190 [00:25<03:42,  1.33s/it]"
     ]
    },
    {
     "name": "stdout",
     "output_type": "stream",
     "text": [
      "Accuracy: 0.953\n",
      "K: 3, Alpha: 20\n"
     ]
    },
    {
     "name": "stderr",
     "output_type": "stream",
     "text": [
      " 13%|█▎        | 24/190 [00:26<02:58,  1.07s/it]"
     ]
    },
    {
     "name": "stdout",
     "output_type": "stream",
     "text": [
      "Accuracy: 0.954\n",
      "K: 4, Alpha: 20\n"
     ]
    },
    {
     "name": "stderr",
     "output_type": "stream",
     "text": [
      " 13%|█▎        | 25/190 [00:26<02:30,  1.10it/s]"
     ]
    },
    {
     "name": "stdout",
     "output_type": "stream",
     "text": [
      "Accuracy: 0.952\n",
      "K: 5, Alpha: 20\n"
     ]
    },
    {
     "name": "stderr",
     "output_type": "stream",
     "text": [
      " 14%|█▎        | 26/190 [00:27<02:12,  1.23it/s]"
     ]
    },
    {
     "name": "stdout",
     "output_type": "stream",
     "text": [
      "Accuracy: 0.954\n",
      "K: 6, Alpha: 20\n"
     ]
    },
    {
     "name": "stderr",
     "output_type": "stream",
     "text": [
      " 14%|█▍        | 27/190 [00:28<02:02,  1.33it/s]"
     ]
    },
    {
     "name": "stdout",
     "output_type": "stream",
     "text": [
      "Accuracy: 0.9545\n",
      "K: 7, Alpha: 20\n"
     ]
    },
    {
     "name": "stderr",
     "output_type": "stream",
     "text": [
      " 15%|█▍        | 28/190 [00:28<01:59,  1.36it/s]"
     ]
    },
    {
     "name": "stdout",
     "output_type": "stream",
     "text": [
      "Accuracy: 0.9545\n",
      "K: 8, Alpha: 20\n"
     ]
    },
    {
     "name": "stderr",
     "output_type": "stream",
     "text": [
      " 15%|█▌        | 29/190 [00:29<01:59,  1.35it/s]"
     ]
    },
    {
     "name": "stdout",
     "output_type": "stream",
     "text": [
      "Accuracy: 0.9505\n",
      "K: 9, Alpha: 20\n"
     ]
    },
    {
     "name": "stderr",
     "output_type": "stream",
     "text": [
      " 16%|█▌        | 30/190 [00:30<02:00,  1.33it/s]"
     ]
    },
    {
     "name": "stdout",
     "output_type": "stream",
     "text": [
      "Accuracy: 0.9515\n",
      "K: 10, Alpha: 20\n"
     ]
    },
    {
     "name": "stderr",
     "output_type": "stream",
     "text": [
      " 16%|█▋        | 31/190 [00:37<06:46,  2.56s/it]"
     ]
    },
    {
     "name": "stdout",
     "output_type": "stream",
     "text": [
      "Accuracy: 0.963\n",
      "K: 1, Alpha: 25\n"
     ]
    },
    {
     "name": "stderr",
     "output_type": "stream",
     "text": [
      " 17%|█▋        | 32/190 [00:37<05:02,  1.91s/it]"
     ]
    },
    {
     "name": "stdout",
     "output_type": "stream",
     "text": [
      "Accuracy: 0.9495\n",
      "K: 2, Alpha: 25\n"
     ]
    },
    {
     "name": "stderr",
     "output_type": "stream",
     "text": [
      " 17%|█▋        | 33/190 [00:37<03:51,  1.48s/it]"
     ]
    },
    {
     "name": "stdout",
     "output_type": "stream",
     "text": [
      "Accuracy: 0.9575\n",
      "K: 3, Alpha: 25\n"
     ]
    },
    {
     "name": "stderr",
     "output_type": "stream",
     "text": [
      " 18%|█▊        | 34/190 [00:38<03:05,  1.19s/it]"
     ]
    },
    {
     "name": "stdout",
     "output_type": "stream",
     "text": [
      "Accuracy: 0.96\n",
      "K: 4, Alpha: 25\n"
     ]
    },
    {
     "name": "stderr",
     "output_type": "stream",
     "text": [
      " 18%|█▊        | 35/190 [00:38<02:35,  1.00s/it]"
     ]
    },
    {
     "name": "stdout",
     "output_type": "stream",
     "text": [
      "Accuracy: 0.9545\n",
      "K: 5, Alpha: 25\n"
     ]
    },
    {
     "name": "stderr",
     "output_type": "stream",
     "text": [
      " 19%|█▉        | 36/190 [00:39<02:16,  1.13it/s]"
     ]
    },
    {
     "name": "stdout",
     "output_type": "stream",
     "text": [
      "Accuracy: 0.958\n",
      "K: 6, Alpha: 25\n"
     ]
    },
    {
     "name": "stderr",
     "output_type": "stream",
     "text": [
      " 19%|█▉        | 37/190 [00:40<02:05,  1.22it/s]"
     ]
    },
    {
     "name": "stdout",
     "output_type": "stream",
     "text": [
      "Accuracy: 0.952\n",
      "K: 7, Alpha: 25\n"
     ]
    },
    {
     "name": "stderr",
     "output_type": "stream",
     "text": [
      " 20%|██        | 38/190 [00:41<02:01,  1.25it/s]"
     ]
    },
    {
     "name": "stdout",
     "output_type": "stream",
     "text": [
      "Accuracy: 0.9555\n",
      "K: 8, Alpha: 25\n"
     ]
    },
    {
     "name": "stderr",
     "output_type": "stream",
     "text": [
      " 21%|██        | 39/190 [00:41<01:59,  1.26it/s]"
     ]
    },
    {
     "name": "stdout",
     "output_type": "stream",
     "text": [
      "Accuracy: 0.9535\n",
      "K: 9, Alpha: 25\n"
     ]
    },
    {
     "name": "stderr",
     "output_type": "stream",
     "text": [
      " 21%|██        | 40/190 [00:42<02:02,  1.23it/s]"
     ]
    },
    {
     "name": "stdout",
     "output_type": "stream",
     "text": [
      "Accuracy: 0.955\n",
      "K: 10, Alpha: 25\n"
     ]
    },
    {
     "name": "stderr",
     "output_type": "stream",
     "text": [
      " 22%|██▏       | 41/190 [00:49<06:30,  2.62s/it]"
     ]
    },
    {
     "name": "stdout",
     "output_type": "stream",
     "text": [
      "Accuracy: 0.9655\n",
      "K: 1, Alpha: 30\n"
     ]
    },
    {
     "name": "stderr",
     "output_type": "stream",
     "text": [
      " 22%|██▏       | 42/190 [00:50<04:55,  1.99s/it]"
     ]
    },
    {
     "name": "stdout",
     "output_type": "stream",
     "text": [
      "Accuracy: 0.953\n",
      "K: 2, Alpha: 30\n"
     ]
    },
    {
     "name": "stderr",
     "output_type": "stream",
     "text": [
      " 23%|██▎       | 43/190 [00:50<03:51,  1.57s/it]"
     ]
    },
    {
     "name": "stdout",
     "output_type": "stream",
     "text": [
      "Accuracy: 0.962\n",
      "K: 3, Alpha: 30\n"
     ]
    },
    {
     "name": "stderr",
     "output_type": "stream",
     "text": [
      " 23%|██▎       | 44/190 [00:51<03:08,  1.29s/it]"
     ]
    },
    {
     "name": "stdout",
     "output_type": "stream",
     "text": [
      "Accuracy: 0.9615\n",
      "K: 4, Alpha: 30\n"
     ]
    },
    {
     "name": "stderr",
     "output_type": "stream",
     "text": [
      " 24%|██▎       | 45/190 [00:51<02:42,  1.12s/it]"
     ]
    },
    {
     "name": "stdout",
     "output_type": "stream",
     "text": [
      "Accuracy: 0.961\n",
      "K: 5, Alpha: 30\n"
     ]
    },
    {
     "name": "stderr",
     "output_type": "stream",
     "text": [
      " 24%|██▍       | 46/190 [00:52<02:25,  1.01s/it]"
     ]
    },
    {
     "name": "stdout",
     "output_type": "stream",
     "text": [
      "Accuracy: 0.9595\n",
      "K: 6, Alpha: 30\n"
     ]
    },
    {
     "name": "stderr",
     "output_type": "stream",
     "text": [
      " 25%|██▍       | 47/190 [00:53<02:15,  1.06it/s]"
     ]
    },
    {
     "name": "stdout",
     "output_type": "stream",
     "text": [
      "Accuracy: 0.9565\n",
      "K: 7, Alpha: 30\n"
     ]
    },
    {
     "name": "stderr",
     "output_type": "stream",
     "text": [
      " 25%|██▌       | 48/190 [00:54<02:10,  1.09it/s]"
     ]
    },
    {
     "name": "stdout",
     "output_type": "stream",
     "text": [
      "Accuracy: 0.9605\n",
      "K: 8, Alpha: 30\n"
     ]
    },
    {
     "name": "stderr",
     "output_type": "stream",
     "text": [
      " 26%|██▌       | 49/190 [00:55<02:09,  1.09it/s]"
     ]
    },
    {
     "name": "stdout",
     "output_type": "stream",
     "text": [
      "Accuracy: 0.959\n",
      "K: 9, Alpha: 30\n"
     ]
    },
    {
     "name": "stderr",
     "output_type": "stream",
     "text": [
      " 26%|██▋       | 50/190 [00:56<02:09,  1.08it/s]"
     ]
    },
    {
     "name": "stdout",
     "output_type": "stream",
     "text": [
      "Accuracy: 0.9605\n",
      "K: 10, Alpha: 30\n"
     ]
    },
    {
     "name": "stderr",
     "output_type": "stream",
     "text": [
      " 27%|██▋       | 51/190 [01:03<06:21,  2.75s/it]"
     ]
    },
    {
     "name": "stdout",
     "output_type": "stream",
     "text": [
      "Accuracy: 0.9675\n",
      "K: 1, Alpha: 35\n"
     ]
    },
    {
     "name": "stderr",
     "output_type": "stream",
     "text": [
      " 27%|██▋       | 52/190 [01:03<04:48,  2.09s/it]"
     ]
    },
    {
     "name": "stdout",
     "output_type": "stream",
     "text": [
      "Accuracy: 0.956\n",
      "K: 2, Alpha: 35\n"
     ]
    },
    {
     "name": "stderr",
     "output_type": "stream",
     "text": [
      " 28%|██▊       | 53/190 [01:04<03:46,  1.65s/it]"
     ]
    },
    {
     "name": "stdout",
     "output_type": "stream",
     "text": [
      "Accuracy: 0.9635\n",
      "K: 3, Alpha: 35\n"
     ]
    },
    {
     "name": "stderr",
     "output_type": "stream",
     "text": [
      " 28%|██▊       | 54/190 [01:05<03:05,  1.36s/it]"
     ]
    },
    {
     "name": "stdout",
     "output_type": "stream",
     "text": [
      "Accuracy: 0.96\n",
      "K: 4, Alpha: 35\n"
     ]
    },
    {
     "name": "stderr",
     "output_type": "stream",
     "text": [
      " 29%|██▉       | 55/190 [01:05<02:38,  1.17s/it]"
     ]
    },
    {
     "name": "stdout",
     "output_type": "stream",
     "text": [
      "Accuracy: 0.961\n",
      "K: 5, Alpha: 35\n"
     ]
    },
    {
     "name": "stderr",
     "output_type": "stream",
     "text": [
      " 29%|██▉       | 56/190 [01:06<02:21,  1.05s/it]"
     ]
    },
    {
     "name": "stdout",
     "output_type": "stream",
     "text": [
      "Accuracy: 0.9595\n",
      "K: 6, Alpha: 35\n"
     ]
    },
    {
     "name": "stderr",
     "output_type": "stream",
     "text": [
      " 30%|███       | 57/190 [01:07<02:10,  1.02it/s]"
     ]
    },
    {
     "name": "stdout",
     "output_type": "stream",
     "text": [
      "Accuracy: 0.96\n",
      "K: 7, Alpha: 35\n"
     ]
    },
    {
     "name": "stderr",
     "output_type": "stream",
     "text": [
      " 31%|███       | 58/190 [01:08<02:05,  1.05it/s]"
     ]
    },
    {
     "name": "stdout",
     "output_type": "stream",
     "text": [
      "Accuracy: 0.96\n",
      "K: 8, Alpha: 35\n"
     ]
    },
    {
     "name": "stderr",
     "output_type": "stream",
     "text": [
      " 31%|███       | 59/190 [01:09<02:04,  1.06it/s]"
     ]
    },
    {
     "name": "stdout",
     "output_type": "stream",
     "text": [
      "Accuracy: 0.962\n",
      "K: 9, Alpha: 35\n"
     ]
    },
    {
     "name": "stderr",
     "output_type": "stream",
     "text": [
      " 32%|███▏      | 60/190 [01:10<02:04,  1.04it/s]"
     ]
    },
    {
     "name": "stdout",
     "output_type": "stream",
     "text": [
      "Accuracy: 0.961\n",
      "K: 10, Alpha: 35\n"
     ]
    },
    {
     "name": "stderr",
     "output_type": "stream",
     "text": [
      " 32%|███▏      | 61/190 [01:18<06:45,  3.14s/it]"
     ]
    },
    {
     "name": "stdout",
     "output_type": "stream",
     "text": [
      "Accuracy: 0.9645\n",
      "K: 1, Alpha: 40\n"
     ]
    },
    {
     "name": "stderr",
     "output_type": "stream",
     "text": [
      " 33%|███▎      | 62/190 [01:19<05:10,  2.43s/it]"
     ]
    },
    {
     "name": "stdout",
     "output_type": "stream",
     "text": [
      "Accuracy: 0.9485\n",
      "K: 2, Alpha: 40\n"
     ]
    },
    {
     "name": "stderr",
     "output_type": "stream",
     "text": [
      " 33%|███▎      | 63/190 [01:19<04:03,  1.92s/it]"
     ]
    },
    {
     "name": "stdout",
     "output_type": "stream",
     "text": [
      "Accuracy: 0.9615\n",
      "K: 3, Alpha: 40\n"
     ]
    },
    {
     "name": "stderr",
     "output_type": "stream",
     "text": [
      " 34%|███▎      | 64/190 [01:20<03:18,  1.58s/it]"
     ]
    },
    {
     "name": "stdout",
     "output_type": "stream",
     "text": [
      "Accuracy: 0.9625\n",
      "K: 4, Alpha: 40\n"
     ]
    },
    {
     "name": "stderr",
     "output_type": "stream",
     "text": [
      " 34%|███▍      | 65/190 [01:21<02:49,  1.36s/it]"
     ]
    },
    {
     "name": "stdout",
     "output_type": "stream",
     "text": [
      "Accuracy: 0.9585\n",
      "K: 5, Alpha: 40\n"
     ]
    },
    {
     "name": "stderr",
     "output_type": "stream",
     "text": [
      " 35%|███▍      | 66/190 [01:22<02:32,  1.23s/it]"
     ]
    },
    {
     "name": "stdout",
     "output_type": "stream",
     "text": [
      "Accuracy: 0.959\n",
      "K: 6, Alpha: 40\n"
     ]
    },
    {
     "name": "stderr",
     "output_type": "stream",
     "text": [
      " 35%|███▌      | 67/190 [01:23<02:21,  1.15s/it]"
     ]
    },
    {
     "name": "stdout",
     "output_type": "stream",
     "text": [
      "Accuracy: 0.9565\n",
      "K: 7, Alpha: 40\n"
     ]
    },
    {
     "name": "stderr",
     "output_type": "stream",
     "text": [
      " 36%|███▌      | 68/190 [01:24<02:14,  1.10s/it]"
     ]
    },
    {
     "name": "stdout",
     "output_type": "stream",
     "text": [
      "Accuracy: 0.958\n",
      "K: 8, Alpha: 40\n"
     ]
    },
    {
     "name": "stderr",
     "output_type": "stream",
     "text": [
      " 36%|███▋      | 69/190 [01:25<02:12,  1.10s/it]"
     ]
    },
    {
     "name": "stdout",
     "output_type": "stream",
     "text": [
      "Accuracy: 0.9575\n",
      "K: 9, Alpha: 40\n"
     ]
    },
    {
     "name": "stderr",
     "output_type": "stream",
     "text": [
      " 37%|███▋      | 70/190 [01:26<02:13,  1.12s/it]"
     ]
    },
    {
     "name": "stdout",
     "output_type": "stream",
     "text": [
      "Accuracy: 0.958\n",
      "K: 10, Alpha: 40\n"
     ]
    },
    {
     "name": "stderr",
     "output_type": "stream",
     "text": [
      " 37%|███▋      | 71/190 [01:34<06:20,  3.19s/it]"
     ]
    },
    {
     "name": "stdout",
     "output_type": "stream",
     "text": [
      "Accuracy: 0.9655\n",
      "K: 1, Alpha: 45\n"
     ]
    },
    {
     "name": "stderr",
     "output_type": "stream",
     "text": [
      " 38%|███▊      | 72/190 [01:35<04:49,  2.45s/it]"
     ]
    },
    {
     "name": "stdout",
     "output_type": "stream",
     "text": [
      "Accuracy: 0.9515\n",
      "K: 2, Alpha: 45\n"
     ]
    },
    {
     "name": "stderr",
     "output_type": "stream",
     "text": [
      " 38%|███▊      | 73/190 [01:36<03:47,  1.94s/it]"
     ]
    },
    {
     "name": "stdout",
     "output_type": "stream",
     "text": [
      "Accuracy: 0.9605\n",
      "K: 3, Alpha: 45\n"
     ]
    },
    {
     "name": "stderr",
     "output_type": "stream",
     "text": [
      " 39%|███▉      | 74/190 [01:37<03:06,  1.61s/it]"
     ]
    },
    {
     "name": "stdout",
     "output_type": "stream",
     "text": [
      "Accuracy: 0.963\n",
      "K: 4, Alpha: 45\n"
     ]
    },
    {
     "name": "stderr",
     "output_type": "stream",
     "text": [
      " 39%|███▉      | 75/190 [01:37<02:39,  1.39s/it]"
     ]
    },
    {
     "name": "stdout",
     "output_type": "stream",
     "text": [
      "Accuracy: 0.96\n",
      "K: 5, Alpha: 45\n"
     ]
    },
    {
     "name": "stderr",
     "output_type": "stream",
     "text": [
      " 40%|████      | 76/190 [01:38<02:22,  1.25s/it]"
     ]
    },
    {
     "name": "stdout",
     "output_type": "stream",
     "text": [
      "Accuracy: 0.958\n",
      "K: 6, Alpha: 45\n"
     ]
    },
    {
     "name": "stderr",
     "output_type": "stream",
     "text": [
      " 41%|████      | 77/190 [01:39<02:13,  1.18s/it]"
     ]
    },
    {
     "name": "stdout",
     "output_type": "stream",
     "text": [
      "Accuracy: 0.955\n",
      "K: 7, Alpha: 45\n"
     ]
    },
    {
     "name": "stderr",
     "output_type": "stream",
     "text": [
      " 41%|████      | 78/190 [01:40<02:07,  1.14s/it]"
     ]
    },
    {
     "name": "stdout",
     "output_type": "stream",
     "text": [
      "Accuracy: 0.959\n",
      "K: 8, Alpha: 45\n"
     ]
    },
    {
     "name": "stderr",
     "output_type": "stream",
     "text": [
      " 42%|████▏     | 79/190 [01:42<02:05,  1.13s/it]"
     ]
    },
    {
     "name": "stdout",
     "output_type": "stream",
     "text": [
      "Accuracy: 0.957\n",
      "K: 9, Alpha: 45\n"
     ]
    },
    {
     "name": "stderr",
     "output_type": "stream",
     "text": [
      " 43%|████▎     | 81/190 [01:51<05:56,  3.28s/it]"
     ]
    },
    {
     "name": "stdout",
     "output_type": "stream",
     "text": [
      "Accuracy: 0.9575\n",
      "K: 10, Alpha: 45\n",
      "Accuracy: 0.965\n",
      "K: 1, Alpha: 50\n"
     ]
    },
    {
     "name": "stderr",
     "output_type": "stream",
     "text": [
      " 43%|████▎     | 82/190 [01:52<04:33,  2.53s/it]"
     ]
    },
    {
     "name": "stdout",
     "output_type": "stream",
     "text": [
      "Accuracy: 0.9475\n",
      "K: 2, Alpha: 50\n"
     ]
    },
    {
     "name": "stderr",
     "output_type": "stream",
     "text": [
      " 44%|████▎     | 83/190 [01:53<03:37,  2.03s/it]"
     ]
    },
    {
     "name": "stdout",
     "output_type": "stream",
     "text": [
      "Accuracy: 0.959\n",
      "K: 3, Alpha: 50\n"
     ]
    },
    {
     "name": "stderr",
     "output_type": "stream",
     "text": [
      " 44%|████▍     | 84/190 [01:54<02:59,  1.70s/it]"
     ]
    },
    {
     "name": "stdout",
     "output_type": "stream",
     "text": [
      "Accuracy: 0.9605\n",
      "K: 4, Alpha: 50\n"
     ]
    },
    {
     "name": "stderr",
     "output_type": "stream",
     "text": [
      " 45%|████▍     | 85/190 [01:55<02:38,  1.51s/it]"
     ]
    },
    {
     "name": "stdout",
     "output_type": "stream",
     "text": [
      "Accuracy: 0.961\n",
      "K: 5, Alpha: 50\n"
     ]
    },
    {
     "name": "stderr",
     "output_type": "stream",
     "text": [
      " 45%|████▌     | 86/190 [01:56<02:24,  1.39s/it]"
     ]
    },
    {
     "name": "stdout",
     "output_type": "stream",
     "text": [
      "Accuracy: 0.96\n",
      "K: 6, Alpha: 50\n"
     ]
    },
    {
     "name": "stderr",
     "output_type": "stream",
     "text": [
      " 46%|████▌     | 87/190 [01:57<02:13,  1.30s/it]"
     ]
    },
    {
     "name": "stdout",
     "output_type": "stream",
     "text": [
      "Accuracy: 0.955\n",
      "K: 7, Alpha: 50\n"
     ]
    },
    {
     "name": "stderr",
     "output_type": "stream",
     "text": [
      " 46%|████▋     | 88/190 [01:58<02:07,  1.25s/it]"
     ]
    },
    {
     "name": "stdout",
     "output_type": "stream",
     "text": [
      "Accuracy: 0.958\n",
      "K: 8, Alpha: 50\n"
     ]
    },
    {
     "name": "stderr",
     "output_type": "stream",
     "text": [
      " 47%|████▋     | 89/190 [01:59<02:05,  1.24s/it]"
     ]
    },
    {
     "name": "stdout",
     "output_type": "stream",
     "text": [
      "Accuracy: 0.957\n",
      "K: 9, Alpha: 50\n"
     ]
    },
    {
     "name": "stderr",
     "output_type": "stream",
     "text": [
      " 47%|████▋     | 90/190 [02:00<02:03,  1.23s/it]"
     ]
    },
    {
     "name": "stdout",
     "output_type": "stream",
     "text": [
      "Accuracy: 0.9565\n",
      "K: 10, Alpha: 50\n"
     ]
    },
    {
     "name": "stderr",
     "output_type": "stream",
     "text": [
      " 48%|████▊     | 91/190 [02:09<05:54,  3.58s/it]"
     ]
    },
    {
     "name": "stdout",
     "output_type": "stream",
     "text": [
      "Accuracy: 0.964\n",
      "K: 1, Alpha: 55\n"
     ]
    },
    {
     "name": "stderr",
     "output_type": "stream",
     "text": [
      " 48%|████▊     | 92/190 [02:10<04:30,  2.76s/it]"
     ]
    },
    {
     "name": "stdout",
     "output_type": "stream",
     "text": [
      "Accuracy: 0.9485\n",
      "K: 2, Alpha: 55\n"
     ]
    },
    {
     "name": "stderr",
     "output_type": "stream",
     "text": [
      " 49%|████▉     | 93/190 [02:11<03:34,  2.21s/it]"
     ]
    },
    {
     "name": "stdout",
     "output_type": "stream",
     "text": [
      "Accuracy: 0.9585\n",
      "K: 3, Alpha: 55\n"
     ]
    },
    {
     "name": "stderr",
     "output_type": "stream",
     "text": [
      " 49%|████▉     | 94/190 [02:12<02:56,  1.84s/it]"
     ]
    },
    {
     "name": "stdout",
     "output_type": "stream",
     "text": [
      "Accuracy: 0.959\n",
      "K: 4, Alpha: 55\n"
     ]
    },
    {
     "name": "stderr",
     "output_type": "stream",
     "text": [
      " 50%|█████     | 95/190 [02:13<02:32,  1.60s/it]"
     ]
    },
    {
     "name": "stdout",
     "output_type": "stream",
     "text": [
      "Accuracy: 0.9605\n",
      "K: 5, Alpha: 55\n"
     ]
    },
    {
     "name": "stderr",
     "output_type": "stream",
     "text": [
      " 51%|█████     | 96/190 [02:14<02:14,  1.44s/it]"
     ]
    },
    {
     "name": "stdout",
     "output_type": "stream",
     "text": [
      "Accuracy: 0.9585\n",
      "K: 6, Alpha: 55\n"
     ]
    },
    {
     "name": "stderr",
     "output_type": "stream",
     "text": [
      " 51%|█████     | 97/190 [02:15<02:04,  1.34s/it]"
     ]
    },
    {
     "name": "stdout",
     "output_type": "stream",
     "text": [
      "Accuracy: 0.953\n",
      "K: 7, Alpha: 55\n"
     ]
    },
    {
     "name": "stderr",
     "output_type": "stream",
     "text": [
      " 52%|█████▏    | 98/190 [02:17<01:57,  1.28s/it]"
     ]
    },
    {
     "name": "stdout",
     "output_type": "stream",
     "text": [
      "Accuracy: 0.959\n",
      "K: 8, Alpha: 55\n"
     ]
    },
    {
     "name": "stderr",
     "output_type": "stream",
     "text": [
      " 52%|█████▏    | 99/190 [02:18<01:53,  1.25s/it]"
     ]
    },
    {
     "name": "stdout",
     "output_type": "stream",
     "text": [
      "Accuracy: 0.957\n",
      "K: 9, Alpha: 55\n"
     ]
    },
    {
     "name": "stderr",
     "output_type": "stream",
     "text": [
      " 53%|█████▎    | 100/190 [02:19<01:52,  1.25s/it]"
     ]
    },
    {
     "name": "stdout",
     "output_type": "stream",
     "text": [
      "Accuracy: 0.9555\n",
      "K: 10, Alpha: 55\n"
     ]
    },
    {
     "name": "stderr",
     "output_type": "stream",
     "text": [
      " 53%|█████▎    | 101/190 [02:29<05:36,  3.78s/it]"
     ]
    },
    {
     "name": "stdout",
     "output_type": "stream",
     "text": [
      "Accuracy: 0.9625\n",
      "K: 1, Alpha: 60\n"
     ]
    },
    {
     "name": "stderr",
     "output_type": "stream",
     "text": [
      " 54%|█████▎    | 102/190 [02:30<04:19,  2.95s/it]"
     ]
    },
    {
     "name": "stdout",
     "output_type": "stream",
     "text": [
      "Accuracy: 0.947\n",
      "K: 2, Alpha: 60\n"
     ]
    },
    {
     "name": "stderr",
     "output_type": "stream",
     "text": [
      " 54%|█████▍    | 103/190 [02:31<03:28,  2.39s/it]"
     ]
    },
    {
     "name": "stdout",
     "output_type": "stream",
     "text": [
      "Accuracy: 0.9605\n",
      "K: 3, Alpha: 60\n"
     ]
    },
    {
     "name": "stderr",
     "output_type": "stream",
     "text": [
      " 55%|█████▍    | 104/190 [02:32<02:53,  2.02s/it]"
     ]
    },
    {
     "name": "stdout",
     "output_type": "stream",
     "text": [
      "Accuracy: 0.9585\n",
      "K: 4, Alpha: 60\n"
     ]
    },
    {
     "name": "stderr",
     "output_type": "stream",
     "text": [
      " 55%|█████▌    | 105/190 [02:33<02:29,  1.76s/it]"
     ]
    },
    {
     "name": "stdout",
     "output_type": "stream",
     "text": [
      "Accuracy: 0.9595\n",
      "K: 5, Alpha: 60\n"
     ]
    },
    {
     "name": "stderr",
     "output_type": "stream",
     "text": [
      " 56%|█████▌    | 106/190 [02:34<02:12,  1.58s/it]"
     ]
    },
    {
     "name": "stdout",
     "output_type": "stream",
     "text": [
      "Accuracy: 0.955\n",
      "K: 6, Alpha: 60\n"
     ]
    },
    {
     "name": "stderr",
     "output_type": "stream",
     "text": [
      " 56%|█████▋    | 107/190 [02:35<02:03,  1.49s/it]"
     ]
    },
    {
     "name": "stdout",
     "output_type": "stream",
     "text": [
      "Accuracy: 0.955\n",
      "K: 7, Alpha: 60\n"
     ]
    },
    {
     "name": "stderr",
     "output_type": "stream",
     "text": [
      " 57%|█████▋    | 108/190 [02:37<01:58,  1.44s/it]"
     ]
    },
    {
     "name": "stdout",
     "output_type": "stream",
     "text": [
      "Accuracy: 0.957\n",
      "K: 8, Alpha: 60\n"
     ]
    },
    {
     "name": "stderr",
     "output_type": "stream",
     "text": [
      " 57%|█████▋    | 109/190 [02:38<01:55,  1.42s/it]"
     ]
    },
    {
     "name": "stdout",
     "output_type": "stream",
     "text": [
      "Accuracy: 0.957\n",
      "K: 9, Alpha: 60\n"
     ]
    },
    {
     "name": "stderr",
     "output_type": "stream",
     "text": [
      " 58%|█████▊    | 110/190 [02:40<01:54,  1.43s/it]"
     ]
    },
    {
     "name": "stdout",
     "output_type": "stream",
     "text": [
      "Accuracy: 0.9545\n",
      "K: 10, Alpha: 60\n"
     ]
    },
    {
     "name": "stderr",
     "output_type": "stream",
     "text": [
      " 58%|█████▊    | 111/190 [02:50<05:20,  4.06s/it]"
     ]
    },
    {
     "name": "stdout",
     "output_type": "stream",
     "text": [
      "Accuracy: 0.963\n",
      "K: 1, Alpha: 65\n"
     ]
    },
    {
     "name": "stderr",
     "output_type": "stream",
     "text": [
      " 59%|█████▉    | 112/190 [02:51<04:05,  3.14s/it]"
     ]
    },
    {
     "name": "stdout",
     "output_type": "stream",
     "text": [
      "Accuracy: 0.9475\n",
      "K: 2, Alpha: 65\n"
     ]
    },
    {
     "name": "stderr",
     "output_type": "stream",
     "text": [
      " 59%|█████▉    | 113/190 [02:52<03:13,  2.51s/it]"
     ]
    },
    {
     "name": "stdout",
     "output_type": "stream",
     "text": [
      "Accuracy: 0.9565\n",
      "K: 3, Alpha: 65\n"
     ]
    },
    {
     "name": "stderr",
     "output_type": "stream",
     "text": [
      " 60%|██████    | 114/190 [02:53<02:39,  2.09s/it]"
     ]
    },
    {
     "name": "stdout",
     "output_type": "stream",
     "text": [
      "Accuracy: 0.957\n",
      "K: 4, Alpha: 65\n"
     ]
    },
    {
     "name": "stderr",
     "output_type": "stream",
     "text": [
      " 61%|██████    | 115/190 [02:54<02:16,  1.81s/it]"
     ]
    },
    {
     "name": "stdout",
     "output_type": "stream",
     "text": [
      "Accuracy: 0.958\n",
      "K: 5, Alpha: 65\n"
     ]
    },
    {
     "name": "stderr",
     "output_type": "stream",
     "text": [
      " 61%|██████    | 116/190 [02:55<02:02,  1.66s/it]"
     ]
    },
    {
     "name": "stdout",
     "output_type": "stream",
     "text": [
      "Accuracy: 0.956\n",
      "K: 6, Alpha: 65\n"
     ]
    },
    {
     "name": "stderr",
     "output_type": "stream",
     "text": [
      " 62%|██████▏   | 117/190 [02:57<01:53,  1.56s/it]"
     ]
    },
    {
     "name": "stdout",
     "output_type": "stream",
     "text": [
      "Accuracy: 0.9545\n",
      "K: 7, Alpha: 65\n"
     ]
    },
    {
     "name": "stderr",
     "output_type": "stream",
     "text": [
      " 62%|██████▏   | 118/190 [02:58<01:47,  1.49s/it]"
     ]
    },
    {
     "name": "stdout",
     "output_type": "stream",
     "text": [
      "Accuracy: 0.9555\n",
      "K: 8, Alpha: 65\n"
     ]
    },
    {
     "name": "stderr",
     "output_type": "stream",
     "text": [
      " 63%|██████▎   | 119/190 [03:00<01:44,  1.48s/it]"
     ]
    },
    {
     "name": "stdout",
     "output_type": "stream",
     "text": [
      "Accuracy: 0.9565\n",
      "K: 9, Alpha: 65\n"
     ]
    },
    {
     "name": "stderr",
     "output_type": "stream",
     "text": [
      " 63%|██████▎   | 120/190 [03:01<01:42,  1.47s/it]"
     ]
    },
    {
     "name": "stdout",
     "output_type": "stream",
     "text": [
      "Accuracy: 0.9535\n",
      "K: 10, Alpha: 65\n"
     ]
    },
    {
     "name": "stderr",
     "output_type": "stream",
     "text": [
      " 64%|██████▎   | 121/190 [03:12<04:53,  4.26s/it]"
     ]
    },
    {
     "name": "stdout",
     "output_type": "stream",
     "text": [
      "Accuracy: 0.9635\n",
      "K: 1, Alpha: 70\n"
     ]
    },
    {
     "name": "stderr",
     "output_type": "stream",
     "text": [
      " 64%|██████▍   | 122/190 [03:13<03:45,  3.32s/it]"
     ]
    },
    {
     "name": "stdout",
     "output_type": "stream",
     "text": [
      "Accuracy: 0.9475\n",
      "K: 2, Alpha: 70\n"
     ]
    },
    {
     "name": "stderr",
     "output_type": "stream",
     "text": [
      " 65%|██████▍   | 123/190 [03:14<02:58,  2.67s/it]"
     ]
    },
    {
     "name": "stdout",
     "output_type": "stream",
     "text": [
      "Accuracy: 0.9585\n",
      "K: 3, Alpha: 70\n"
     ]
    },
    {
     "name": "stderr",
     "output_type": "stream",
     "text": [
      " 65%|██████▌   | 124/190 [03:15<02:27,  2.23s/it]"
     ]
    },
    {
     "name": "stdout",
     "output_type": "stream",
     "text": [
      "Accuracy: 0.9555\n",
      "K: 4, Alpha: 70\n"
     ]
    },
    {
     "name": "stderr",
     "output_type": "stream",
     "text": [
      " 66%|██████▌   | 125/190 [03:17<02:06,  1.95s/it]"
     ]
    },
    {
     "name": "stdout",
     "output_type": "stream",
     "text": [
      "Accuracy: 0.9585\n",
      "K: 5, Alpha: 70\n"
     ]
    },
    {
     "name": "stderr",
     "output_type": "stream",
     "text": [
      " 66%|██████▋   | 126/190 [03:18<01:52,  1.76s/it]"
     ]
    },
    {
     "name": "stdout",
     "output_type": "stream",
     "text": [
      "Accuracy: 0.957\n",
      "K: 6, Alpha: 70\n"
     ]
    },
    {
     "name": "stderr",
     "output_type": "stream",
     "text": [
      " 67%|██████▋   | 127/190 [03:19<01:43,  1.64s/it]"
     ]
    },
    {
     "name": "stdout",
     "output_type": "stream",
     "text": [
      "Accuracy: 0.9535\n",
      "K: 7, Alpha: 70\n"
     ]
    },
    {
     "name": "stderr",
     "output_type": "stream",
     "text": [
      " 67%|██████▋   | 128/190 [03:21<01:37,  1.58s/it]"
     ]
    },
    {
     "name": "stdout",
     "output_type": "stream",
     "text": [
      "Accuracy: 0.957\n",
      "K: 8, Alpha: 70\n"
     ]
    },
    {
     "name": "stderr",
     "output_type": "stream",
     "text": [
      " 68%|██████▊   | 129/190 [03:22<01:34,  1.55s/it]"
     ]
    },
    {
     "name": "stdout",
     "output_type": "stream",
     "text": [
      "Accuracy: 0.956\n",
      "K: 9, Alpha: 70\n"
     ]
    },
    {
     "name": "stderr",
     "output_type": "stream",
     "text": [
      " 68%|██████▊   | 130/190 [03:24<01:34,  1.57s/it]"
     ]
    },
    {
     "name": "stdout",
     "output_type": "stream",
     "text": [
      "Accuracy: 0.9515\n",
      "K: 10, Alpha: 70\n"
     ]
    },
    {
     "name": "stderr",
     "output_type": "stream",
     "text": [
      " 69%|██████▉   | 131/190 [03:36<04:34,  4.65s/it]"
     ]
    },
    {
     "name": "stdout",
     "output_type": "stream",
     "text": [
      "Accuracy: 0.963\n",
      "K: 1, Alpha: 75\n"
     ]
    },
    {
     "name": "stderr",
     "output_type": "stream",
     "text": [
      " 69%|██████▉   | 132/190 [03:37<03:29,  3.61s/it]"
     ]
    },
    {
     "name": "stdout",
     "output_type": "stream",
     "text": [
      "Accuracy: 0.9485\n",
      "K: 2, Alpha: 75\n"
     ]
    },
    {
     "name": "stderr",
     "output_type": "stream",
     "text": [
      " 70%|███████   | 133/190 [03:38<02:44,  2.89s/it]"
     ]
    },
    {
     "name": "stdout",
     "output_type": "stream",
     "text": [
      "Accuracy: 0.958\n",
      "K: 3, Alpha: 75\n"
     ]
    },
    {
     "name": "stderr",
     "output_type": "stream",
     "text": [
      " 71%|███████   | 134/190 [03:39<02:15,  2.41s/it]"
     ]
    },
    {
     "name": "stdout",
     "output_type": "stream",
     "text": [
      "Accuracy: 0.9565\n",
      "K: 4, Alpha: 75\n"
     ]
    },
    {
     "name": "stderr",
     "output_type": "stream",
     "text": [
      " 71%|███████   | 135/190 [03:41<01:55,  2.10s/it]"
     ]
    },
    {
     "name": "stdout",
     "output_type": "stream",
     "text": [
      "Accuracy: 0.958\n",
      "K: 5, Alpha: 75\n"
     ]
    },
    {
     "name": "stderr",
     "output_type": "stream",
     "text": [
      " 72%|███████▏  | 136/190 [03:42<01:41,  1.88s/it]"
     ]
    },
    {
     "name": "stdout",
     "output_type": "stream",
     "text": [
      "Accuracy: 0.9545\n",
      "K: 6, Alpha: 75\n"
     ]
    },
    {
     "name": "stderr",
     "output_type": "stream",
     "text": [
      " 72%|███████▏  | 137/190 [03:43<01:32,  1.75s/it]"
     ]
    },
    {
     "name": "stdout",
     "output_type": "stream",
     "text": [
      "Accuracy: 0.953\n",
      "K: 7, Alpha: 75\n"
     ]
    },
    {
     "name": "stderr",
     "output_type": "stream",
     "text": [
      " 73%|███████▎  | 138/190 [03:45<01:26,  1.67s/it]"
     ]
    },
    {
     "name": "stdout",
     "output_type": "stream",
     "text": [
      "Accuracy: 0.954\n",
      "K: 8, Alpha: 75\n"
     ]
    },
    {
     "name": "stderr",
     "output_type": "stream",
     "text": [
      " 73%|███████▎  | 139/190 [03:46<01:22,  1.62s/it]"
     ]
    },
    {
     "name": "stdout",
     "output_type": "stream",
     "text": [
      "Accuracy: 0.953\n",
      "K: 9, Alpha: 75\n"
     ]
    },
    {
     "name": "stderr",
     "output_type": "stream",
     "text": [
      " 74%|███████▎  | 140/190 [03:48<01:19,  1.60s/it]"
     ]
    },
    {
     "name": "stdout",
     "output_type": "stream",
     "text": [
      "Accuracy: 0.948\n",
      "K: 10, Alpha: 75\n"
     ]
    },
    {
     "name": "stderr",
     "output_type": "stream",
     "text": [
      " 74%|███████▍  | 141/190 [04:00<03:52,  4.75s/it]"
     ]
    },
    {
     "name": "stdout",
     "output_type": "stream",
     "text": [
      "Accuracy: 0.964\n",
      "K: 1, Alpha: 80\n"
     ]
    },
    {
     "name": "stderr",
     "output_type": "stream",
     "text": [
      " 75%|███████▍  | 142/190 [04:02<03:01,  3.77s/it]"
     ]
    },
    {
     "name": "stdout",
     "output_type": "stream",
     "text": [
      "Accuracy: 0.9455\n",
      "K: 2, Alpha: 80\n"
     ]
    },
    {
     "name": "stderr",
     "output_type": "stream",
     "text": [
      " 75%|███████▌  | 143/190 [04:03<02:25,  3.09s/it]"
     ]
    },
    {
     "name": "stdout",
     "output_type": "stream",
     "text": [
      "Accuracy: 0.96\n",
      "K: 3, Alpha: 80\n"
     ]
    },
    {
     "name": "stderr",
     "output_type": "stream",
     "text": [
      " 76%|███████▌  | 144/190 [04:05<02:00,  2.62s/it]"
     ]
    },
    {
     "name": "stdout",
     "output_type": "stream",
     "text": [
      "Accuracy: 0.956\n",
      "K: 4, Alpha: 80\n"
     ]
    },
    {
     "name": "stderr",
     "output_type": "stream",
     "text": [
      " 76%|███████▋  | 145/190 [04:06<01:43,  2.30s/it]"
     ]
    },
    {
     "name": "stdout",
     "output_type": "stream",
     "text": [
      "Accuracy: 0.958\n",
      "K: 5, Alpha: 80\n"
     ]
    },
    {
     "name": "stderr",
     "output_type": "stream",
     "text": [
      " 77%|███████▋  | 146/190 [04:08<01:31,  2.08s/it]"
     ]
    },
    {
     "name": "stdout",
     "output_type": "stream",
     "text": [
      "Accuracy: 0.9575\n",
      "K: 6, Alpha: 80\n"
     ]
    },
    {
     "name": "stderr",
     "output_type": "stream",
     "text": [
      " 77%|███████▋  | 147/190 [04:09<01:24,  1.96s/it]"
     ]
    },
    {
     "name": "stdout",
     "output_type": "stream",
     "text": [
      "Accuracy: 0.9545\n",
      "K: 7, Alpha: 80\n"
     ]
    },
    {
     "name": "stderr",
     "output_type": "stream",
     "text": [
      " 78%|███████▊  | 148/190 [04:11<01:19,  1.88s/it]"
     ]
    },
    {
     "name": "stdout",
     "output_type": "stream",
     "text": [
      "Accuracy: 0.9525\n",
      "K: 8, Alpha: 80\n"
     ]
    },
    {
     "name": "stderr",
     "output_type": "stream",
     "text": [
      " 78%|███████▊  | 149/190 [04:13<01:17,  1.90s/it]"
     ]
    },
    {
     "name": "stdout",
     "output_type": "stream",
     "text": [
      "Accuracy: 0.952\n",
      "K: 9, Alpha: 80\n"
     ]
    },
    {
     "name": "stderr",
     "output_type": "stream",
     "text": [
      " 79%|███████▉  | 150/190 [04:15<01:17,  1.95s/it]"
     ]
    },
    {
     "name": "stdout",
     "output_type": "stream",
     "text": [
      "Accuracy: 0.949\n",
      "K: 10, Alpha: 80\n"
     ]
    },
    {
     "name": "stderr",
     "output_type": "stream",
     "text": [
      " 79%|███████▉  | 151/190 [04:29<03:35,  5.53s/it]"
     ]
    },
    {
     "name": "stdout",
     "output_type": "stream",
     "text": [
      "Accuracy: 0.961\n",
      "K: 1, Alpha: 85\n"
     ]
    },
    {
     "name": "stderr",
     "output_type": "stream",
     "text": [
      " 80%|████████  | 152/190 [04:30<02:42,  4.28s/it]"
     ]
    },
    {
     "name": "stdout",
     "output_type": "stream",
     "text": [
      "Accuracy: 0.944\n",
      "K: 2, Alpha: 85\n"
     ]
    },
    {
     "name": "stderr",
     "output_type": "stream",
     "text": [
      " 81%|████████  | 153/190 [04:32<02:08,  3.47s/it]"
     ]
    },
    {
     "name": "stdout",
     "output_type": "stream",
     "text": [
      "Accuracy: 0.96\n",
      "K: 3, Alpha: 85\n"
     ]
    },
    {
     "name": "stderr",
     "output_type": "stream",
     "text": [
      " 81%|████████  | 154/190 [04:33<01:44,  2.89s/it]"
     ]
    },
    {
     "name": "stdout",
     "output_type": "stream",
     "text": [
      "Accuracy: 0.956\n",
      "K: 4, Alpha: 85\n"
     ]
    },
    {
     "name": "stderr",
     "output_type": "stream",
     "text": [
      " 82%|████████▏ | 155/190 [04:35<01:26,  2.47s/it]"
     ]
    },
    {
     "name": "stdout",
     "output_type": "stream",
     "text": [
      "Accuracy: 0.958\n",
      "K: 5, Alpha: 85\n"
     ]
    },
    {
     "name": "stderr",
     "output_type": "stream",
     "text": [
      " 82%|████████▏ | 156/190 [04:37<01:14,  2.19s/it]"
     ]
    },
    {
     "name": "stdout",
     "output_type": "stream",
     "text": [
      "Accuracy: 0.9555\n",
      "K: 6, Alpha: 85\n"
     ]
    },
    {
     "name": "stderr",
     "output_type": "stream",
     "text": [
      " 83%|████████▎ | 157/190 [04:38<01:06,  2.01s/it]"
     ]
    },
    {
     "name": "stdout",
     "output_type": "stream",
     "text": [
      "Accuracy: 0.9545\n",
      "K: 7, Alpha: 85\n"
     ]
    },
    {
     "name": "stderr",
     "output_type": "stream",
     "text": [
      " 83%|████████▎ | 158/190 [04:40<01:01,  1.92s/it]"
     ]
    },
    {
     "name": "stdout",
     "output_type": "stream",
     "text": [
      "Accuracy: 0.9515\n",
      "K: 8, Alpha: 85\n"
     ]
    },
    {
     "name": "stderr",
     "output_type": "stream",
     "text": [
      " 84%|████████▎ | 159/190 [04:42<00:58,  1.88s/it]"
     ]
    },
    {
     "name": "stdout",
     "output_type": "stream",
     "text": [
      "Accuracy: 0.9485\n",
      "K: 9, Alpha: 85\n"
     ]
    },
    {
     "name": "stderr",
     "output_type": "stream",
     "text": [
      " 84%|████████▍ | 160/190 [04:43<00:55,  1.84s/it]"
     ]
    },
    {
     "name": "stdout",
     "output_type": "stream",
     "text": [
      "Accuracy: 0.947\n",
      "K: 10, Alpha: 85\n"
     ]
    },
    {
     "name": "stderr",
     "output_type": "stream",
     "text": [
      " 85%|████████▍ | 161/190 [04:57<02:39,  5.51s/it]"
     ]
    },
    {
     "name": "stdout",
     "output_type": "stream",
     "text": [
      "Accuracy: 0.9625\n",
      "K: 1, Alpha: 90\n"
     ]
    },
    {
     "name": "stderr",
     "output_type": "stream",
     "text": [
      " 85%|████████▌ | 162/190 [04:59<02:00,  4.31s/it]"
     ]
    },
    {
     "name": "stdout",
     "output_type": "stream",
     "text": [
      "Accuracy: 0.9445\n",
      "K: 2, Alpha: 90\n"
     ]
    },
    {
     "name": "stderr",
     "output_type": "stream",
     "text": [
      " 86%|████████▌ | 163/190 [05:00<01:33,  3.48s/it]"
     ]
    },
    {
     "name": "stdout",
     "output_type": "stream",
     "text": [
      "Accuracy: 0.9595\n",
      "K: 3, Alpha: 90\n"
     ]
    },
    {
     "name": "stderr",
     "output_type": "stream",
     "text": [
      " 86%|████████▋ | 164/190 [05:02<01:15,  2.92s/it]"
     ]
    },
    {
     "name": "stdout",
     "output_type": "stream",
     "text": [
      "Accuracy: 0.957\n",
      "K: 4, Alpha: 90\n"
     ]
    },
    {
     "name": "stderr",
     "output_type": "stream",
     "text": [
      " 87%|████████▋ | 165/190 [05:04<01:03,  2.54s/it]"
     ]
    },
    {
     "name": "stdout",
     "output_type": "stream",
     "text": [
      "Accuracy: 0.958\n",
      "K: 5, Alpha: 90\n"
     ]
    },
    {
     "name": "stderr",
     "output_type": "stream",
     "text": [
      " 87%|████████▋ | 166/190 [05:05<00:54,  2.29s/it]"
     ]
    },
    {
     "name": "stdout",
     "output_type": "stream",
     "text": [
      "Accuracy: 0.9555\n",
      "K: 6, Alpha: 90\n"
     ]
    },
    {
     "name": "stderr",
     "output_type": "stream",
     "text": [
      " 88%|████████▊ | 167/190 [05:07<00:49,  2.13s/it]"
     ]
    },
    {
     "name": "stdout",
     "output_type": "stream",
     "text": [
      "Accuracy: 0.955\n",
      "K: 7, Alpha: 90\n"
     ]
    },
    {
     "name": "stderr",
     "output_type": "stream",
     "text": [
      " 88%|████████▊ | 168/190 [05:09<00:44,  2.04s/it]"
     ]
    },
    {
     "name": "stdout",
     "output_type": "stream",
     "text": [
      "Accuracy: 0.9525\n",
      "K: 8, Alpha: 90\n"
     ]
    },
    {
     "name": "stderr",
     "output_type": "stream",
     "text": [
      " 89%|████████▉ | 169/190 [05:11<00:41,  1.99s/it]"
     ]
    },
    {
     "name": "stdout",
     "output_type": "stream",
     "text": [
      "Accuracy: 0.951\n",
      "K: 9, Alpha: 90\n"
     ]
    },
    {
     "name": "stderr",
     "output_type": "stream",
     "text": [
      " 89%|████████▉ | 170/190 [05:13<00:39,  1.97s/it]"
     ]
    },
    {
     "name": "stdout",
     "output_type": "stream",
     "text": [
      "Accuracy: 0.948\n",
      "K: 10, Alpha: 90\n"
     ]
    },
    {
     "name": "stderr",
     "output_type": "stream",
     "text": [
      " 90%|█████████ | 171/190 [05:28<01:50,  5.83s/it]"
     ]
    },
    {
     "name": "stdout",
     "output_type": "stream",
     "text": [
      "Accuracy: 0.963\n",
      "K: 1, Alpha: 95\n"
     ]
    },
    {
     "name": "stderr",
     "output_type": "stream",
     "text": [
      " 91%|█████████ | 172/190 [05:29<01:21,  4.54s/it]"
     ]
    },
    {
     "name": "stdout",
     "output_type": "stream",
     "text": [
      "Accuracy: 0.944\n",
      "K: 2, Alpha: 95\n"
     ]
    },
    {
     "name": "stderr",
     "output_type": "stream",
     "text": [
      " 91%|█████████ | 173/190 [05:31<01:02,  3.66s/it]"
     ]
    },
    {
     "name": "stdout",
     "output_type": "stream",
     "text": [
      "Accuracy: 0.957\n",
      "K: 3, Alpha: 95\n"
     ]
    },
    {
     "name": "stderr",
     "output_type": "stream",
     "text": [
      " 92%|█████████▏| 174/190 [05:32<00:48,  3.05s/it]"
     ]
    },
    {
     "name": "stdout",
     "output_type": "stream",
     "text": [
      "Accuracy: 0.957\n",
      "K: 4, Alpha: 95\n"
     ]
    },
    {
     "name": "stderr",
     "output_type": "stream",
     "text": [
      " 92%|█████████▏| 175/190 [05:34<00:39,  2.64s/it]"
     ]
    },
    {
     "name": "stdout",
     "output_type": "stream",
     "text": [
      "Accuracy: 0.958\n",
      "K: 5, Alpha: 95\n"
     ]
    },
    {
     "name": "stderr",
     "output_type": "stream",
     "text": [
      " 93%|█████████▎| 176/190 [05:36<00:33,  2.38s/it]"
     ]
    },
    {
     "name": "stdout",
     "output_type": "stream",
     "text": [
      "Accuracy: 0.955\n",
      "K: 6, Alpha: 95\n"
     ]
    },
    {
     "name": "stderr",
     "output_type": "stream",
     "text": [
      " 93%|█████████▎| 177/190 [05:38<00:28,  2.20s/it]"
     ]
    },
    {
     "name": "stdout",
     "output_type": "stream",
     "text": [
      "Accuracy: 0.9545\n",
      "K: 7, Alpha: 95\n"
     ]
    },
    {
     "name": "stderr",
     "output_type": "stream",
     "text": [
      " 94%|█████████▎| 178/190 [05:40<00:25,  2.10s/it]"
     ]
    },
    {
     "name": "stdout",
     "output_type": "stream",
     "text": [
      "Accuracy: 0.9505\n",
      "K: 8, Alpha: 95\n"
     ]
    },
    {
     "name": "stderr",
     "output_type": "stream",
     "text": [
      " 94%|█████████▍| 179/190 [05:41<00:22,  2.04s/it]"
     ]
    },
    {
     "name": "stdout",
     "output_type": "stream",
     "text": [
      "Accuracy: 0.9505\n",
      "K: 9, Alpha: 95\n"
     ]
    },
    {
     "name": "stderr",
     "output_type": "stream",
     "text": [
      " 95%|█████████▍| 180/190 [05:43<00:20,  2.03s/it]"
     ]
    },
    {
     "name": "stdout",
     "output_type": "stream",
     "text": [
      "Accuracy: 0.9475\n",
      "K: 10, Alpha: 95\n"
     ]
    },
    {
     "name": "stderr",
     "output_type": "stream",
     "text": [
      " 95%|█████████▌| 181/190 [06:02<01:03,  7.09s/it]"
     ]
    },
    {
     "name": "stdout",
     "output_type": "stream",
     "text": [
      "Accuracy: 0.963\n",
      "K: 1, Alpha: 100\n"
     ]
    },
    {
     "name": "stderr",
     "output_type": "stream",
     "text": [
      " 96%|█████████▌| 182/190 [06:04<00:44,  5.53s/it]"
     ]
    },
    {
     "name": "stdout",
     "output_type": "stream",
     "text": [
      "Accuracy: 0.9445\n",
      "K: 2, Alpha: 100\n"
     ]
    },
    {
     "name": "stderr",
     "output_type": "stream",
     "text": [
      " 96%|█████████▋| 183/190 [06:06<00:30,  4.39s/it]"
     ]
    },
    {
     "name": "stdout",
     "output_type": "stream",
     "text": [
      "Accuracy: 0.9555\n",
      "K: 3, Alpha: 100\n"
     ]
    },
    {
     "name": "stderr",
     "output_type": "stream",
     "text": [
      " 97%|█████████▋| 184/190 [06:08<00:21,  3.65s/it]"
     ]
    },
    {
     "name": "stdout",
     "output_type": "stream",
     "text": [
      "Accuracy: 0.9585\n",
      "K: 4, Alpha: 100\n"
     ]
    },
    {
     "name": "stderr",
     "output_type": "stream",
     "text": [
      " 97%|█████████▋| 185/190 [06:10<00:16,  3.20s/it]"
     ]
    },
    {
     "name": "stdout",
     "output_type": "stream",
     "text": [
      "Accuracy: 0.9575\n",
      "K: 5, Alpha: 100\n"
     ]
    },
    {
     "name": "stderr",
     "output_type": "stream",
     "text": [
      " 98%|█████████▊| 186/190 [06:12<00:11,  2.90s/it]"
     ]
    },
    {
     "name": "stdout",
     "output_type": "stream",
     "text": [
      "Accuracy: 0.9535\n",
      "K: 6, Alpha: 100\n"
     ]
    },
    {
     "name": "stderr",
     "output_type": "stream",
     "text": [
      " 98%|█████████▊| 187/190 [06:14<00:07,  2.64s/it]"
     ]
    },
    {
     "name": "stdout",
     "output_type": "stream",
     "text": [
      "Accuracy: 0.953\n",
      "K: 7, Alpha: 100\n"
     ]
    },
    {
     "name": "stderr",
     "output_type": "stream",
     "text": [
      " 99%|█████████▉| 188/190 [06:17<00:05,  2.53s/it]"
     ]
    },
    {
     "name": "stdout",
     "output_type": "stream",
     "text": [
      "Accuracy: 0.9495\n",
      "K: 8, Alpha: 100\n"
     ]
    },
    {
     "name": "stderr",
     "output_type": "stream",
     "text": [
      " 99%|█████████▉| 189/190 [06:19<00:02,  2.41s/it]"
     ]
    },
    {
     "name": "stdout",
     "output_type": "stream",
     "text": [
      "Accuracy: 0.9485\n",
      "K: 9, Alpha: 100\n"
     ]
    },
    {
     "name": "stderr",
     "output_type": "stream",
     "text": [
      "100%|██████████| 190/190 [06:21<00:00,  2.01s/it]"
     ]
    },
    {
     "name": "stdout",
     "output_type": "stream",
     "text": [
      "Accuracy: 0.947\n",
      "K: 10, Alpha: 100\n"
     ]
    },
    {
     "name": "stderr",
     "output_type": "stream",
     "text": [
      "\n"
     ]
    }
   ],
   "source": [
    "name_k_alpha_complete = \"../dataExp/KNN_PCA_extense.csv\"\n",
    "total_instances = 10000\n",
    "ks = range(1,11)\n",
    "alphas = range(10,101,5)\n",
    "\n",
    "experimentacion_k_alpha(name_k_alpha_complete, ks, alphas, total_instances)"
   ]
  },
  {
   "cell_type": "code",
   "execution_count": 42,
   "id": "dc177ecd",
   "metadata": {},
   "outputs": [
    {
     "data": {
      "image/png": "[encoded data removed]",
      "text/plain": [
       "<Figure size 504x288 with 2 Axes>"
      ]
     },
     "metadata": {
      "needs_background": "light"
     },
     "output_type": "display_data"
    }
   ],
   "source": [
    "name_k_alpha_extense = \"../dataExp/KNN_PCA_extense.csv\"\n",
    "plot_scatter(name_k_alpha_extense, \"Accuracy para distintos valores selectos de k y alpha\", (7,4))"
   ]
  },
  {
   "cell_type": "code",
   "execution_count": 51,
   "id": "02e69e25",
   "metadata": {},
   "outputs": [
    {
     "data": {
      "image/png": "[encoded data removed]",
      "text/plain": [
       "<Figure size 504x288 with 2 Axes>"
      ]
     },
     "metadata": {
      "needs_background": "light"
     },
     "output_type": "display_data"
    }
   ],
   "source": [
    "import matplotlib.pyplot as plt\n",
    "import numpy as np\n",
    "\n",
    "filename = \"../dataExp/KNN_PCA_extense.csv\"\n",
    "\n",
    "# Grafica los datos obtenidos para los distintos k y alpha\n",
    "columns = [\"k\", \"alpha\", \"time\", \"acc\"]\n",
    "df = pd.read_csv(filename, names=columns)\n",
    "df = df[df[\"alpha\"] >= 20] \n",
    "\n",
    "plot_scatter_df(df, \"Accuracy para distintos valores de k y alpha zona de interés\")\n"
   ]
  },
  {
   "cell_type": "markdown",
   "id": "0153b068",
   "metadata": {},
   "source": [
    "# Imprimir ordenados"
   ]
  },
  {
   "cell_type": "code",
   "execution_count": 102,
   "id": "16aeeed8",
   "metadata": {},
   "outputs": [
    {
     "name": "stdout",
     "output_type": "stream",
     "text": [
      "        k  alpha       time     acc  rank\n",
      "50    1.0   35.0   6.983079  0.9675     1\n",
      "70    1.0   45.0   8.045151  0.9655     2\n",
      "40    1.0   30.0   6.831399  0.9655     3\n",
      "80    1.0   50.0   8.223451  0.9650     4\n",
      "60    1.0   40.0   8.244189  0.9645     5\n",
      "140   1.0   80.0  12.119491  0.9640     6\n",
      "90    1.0   55.0   9.048980  0.9640     7\n",
      "120   1.0   70.0  10.774125  0.9635     8\n",
      "52    3.0   35.0   7.085550  0.9635     9\n",
      "73    4.0   45.0   8.220729  0.9630    10\n",
      "180   1.0  100.0  18.913546  0.9630    11\n",
      "170   1.0   95.0  14.829297  0.9630    12\n",
      "110   1.0   65.0  10.191884  0.9630    13\n",
      "130   1.0   75.0  11.831183  0.9630    14\n",
      "30    1.0   25.0   6.759549  0.9630    15\n",
      "63    4.0   40.0   8.332384  0.9625    16\n",
      "100   1.0   60.0   9.682708  0.9625    17\n",
      "160   1.0   90.0  14.091987  0.9625    18\n",
      "58    9.0   35.0   7.396508  0.9620    19\n",
      "42    3.0   30.0   6.934864  0.9620    20\n",
      "62    3.0   40.0   8.276679  0.9615    21\n",
      "43    4.0   30.0   6.995933  0.9615    22\n",
      "150   1.0   85.0  13.906134  0.9610    23\n",
      "59   10.0   35.0   7.442127  0.9610    24\n",
      "44    5.0   30.0   7.071351  0.9610    25\n",
      "84    5.0   50.0   8.544036  0.9610    26\n",
      "54    5.0   35.0   7.188840  0.9610    27\n",
      "47    8.0   30.0   7.201004  0.9605    28\n",
      "94    5.0   55.0   9.306516  0.9605    29\n",
      "49   10.0   30.0   7.308028  0.9605    30\n",
      "..    ...    ...        ...     ...   ...\n",
      "81    2.0   50.0   8.271949  0.9475   161\n",
      "189  10.0  100.0  19.137739  0.9470   162\n",
      "101   2.0   60.0   9.760064  0.9470   163\n",
      "159  10.0   85.0  14.339025  0.9470   164\n",
      "141   2.0   80.0  12.170806  0.9455   165\n",
      "161   2.0   90.0  14.124692  0.9445   166\n",
      "181   2.0  100.0  18.851488  0.9445   167\n",
      "151   2.0   85.0  13.946605  0.9440   168\n",
      "171   2.0   95.0  14.877411  0.9440   169\n",
      "15    6.0   15.0   5.885650  0.9430   170\n",
      "21    2.0   20.0   6.200378  0.9425   171\n",
      "14    5.0   15.0   5.834324  0.9415   172\n",
      "13    4.0   15.0   5.782593  0.9410   173\n",
      "19   10.0   15.0   6.075449  0.9385   174\n",
      "16    7.0   15.0   5.940251  0.9370   175\n",
      "17    8.0   15.0   5.982077  0.9360   176\n",
      "18    9.0   15.0   6.025807  0.9355   177\n",
      "12    3.0   15.0   5.727756  0.9340   178\n",
      "10    1.0   15.0   5.631830  0.9285   179\n",
      "11    2.0   15.0   5.683759  0.9250   180\n",
      "4     5.0   10.0   5.022759  0.9110   181\n",
      "7     8.0   10.0   5.166586  0.9105   182\n",
      "8     9.0   10.0   5.220510  0.9100   183\n",
      "9    10.0   10.0   5.289005  0.9095   184\n",
      "6     7.0   10.0   5.117357  0.9065   185\n",
      "5     6.0   10.0   5.069677  0.9055   186\n",
      "3     4.0   10.0   4.971267  0.9035   187\n",
      "2     3.0   10.0   4.919043  0.8985   188\n",
      "0     1.0   10.0   4.816634  0.8925   189\n",
      "1     2.0   10.0   4.869239  0.8835   190\n",
      "\n",
      "[190 rows x 5 columns]\n"
     ]
    }
   ],
   "source": [
    "filename = \"../dataExp/KNN_PCA_extense.csv\"\n",
    "\n",
    "# Grafica los datos obtenidos para los distintos k y alpha\n",
    "columns = [\"k\", \"alpha\", \"time\", \"acc\"]\n",
    "df = pd.read_csv(filename, names=columns)\n",
    "df = df.sort_values(\"acc\", ascending=False)\n",
    "ranking = range(1,len(df[\"acc\"])+1)\n",
    "df[\"rank\"] = ranking\n",
    "print(df)"
   ]
  },
  {
   "cell_type": "markdown",
   "id": "6e8d6b1d",
   "metadata": {},
   "source": [
    "##### Experimentar con el alpha\n",
    "- Research paper de buenos alphas\n",
    "- **Experimentar**: Experimentacion similar a la de K pero el inicial talvez mejor hasta 600 o algo del estilo para tener un panorama mas completo ya que no se espepra que al aumentarlo empeore necesariamente\n"
   ]
  },
  {
   "cell_type": "markdown",
   "id": "dae4c4ab",
   "metadata": {},
   "source": [
    "# Experimentar con la cantidad de instancias \n",
    "- para los k y alpha obtenidos en exp1 vamos a experimentar con el porcentage de las instancias\n",
    " ver para un mismo train set si distintos tamaño de test_set obtienen resultados muy disntintos"
   ]
  },
  {
   "cell_type": "markdown",
   "id": "c1badb94",
   "metadata": {},
   "source": [
    "### Rangos de datos utilizados\n",
    "empezamos en 100 para al menos tener un par de referencias para cada digito\n",
    "- Cantidad de instancias de train: 100, 1000, 5000, 10000, 15000, 20000"
   ]
  },
  {
   "cell_type": "code",
   "execution_count": 17,
   "id": "aea748ee",
   "metadata": {},
   "outputs": [],
   "source": [
    "# for\n",
    "#    experimentacion_k_alpha(name_k_alpha_complete, ks, alphas, total_instances)\n",
    "\n",
    "def main(filename, k, alpha, method, total_instances = 32000, num_iter = 1000, train_percentage = 0.8, epsilon = 1e-6 ):\n",
    "    X, y = get_data_set(filename, total_instances)\n",
    "    \n",
    "    # take some instances for train and other for validation\n",
    "    limit = int(train_percentage * X.shape[0]) \n",
    "\n",
    "    X_train, label_train = X[:limit], y[:limit]\n",
    "    X_val, label_val = X[limit:], y[limit:]\n",
    "\n",
    "    assert len(X_train) == len(label_train)\n",
    "    assert len(X_val) == len(label_val)\n",
    "\n",
    "    clf = metnum.KNNClassifier(k)\n",
    "    \n",
    "    if (method == \"KNN\"):\n",
    "        clf.fit(X_train, label_train)\n",
    "        \n",
    "    if (method == \"KNN_PCA\"):\n",
    "        pca = metnum.PCA(alpha, num_iter, epsilon)\n",
    "        pca.fit(X_train)\n",
    "\n",
    "        X_train = pca.transform(X_train)\n",
    "        X_val = pca.transform(X_val)\n",
    "        \n",
    "        clf.fit(X_train, label_train) \n",
    "\n",
    "    from sklearn.metrics import accuracy_score\n",
    "    label_pred = clf.predict(X_val)\n",
    "\n",
    "    acc = accuracy_score(label_val, label_pred)\n",
    "    print(\"Accuracy: {}\".format(acc))\n",
    "    return acc"
   ]
  },
  {
   "cell_type": "markdown",
   "id": "c265a386",
   "metadata": {},
   "source": [
    "# Posible metodo KNN pesado\n",
    "- Por orden(sencillo pero no tan bueno talvez)\n",
    "- Por distancia con peso"
   ]
  },
  {
   "cell_type": "markdown",
   "id": "0d295099",
   "metadata": {},
   "source": [
    "# Metricas para determinar los resultados obtenidos que no son accuracy\n",
    "- Accuracy\n",
    "- Curvas de precisión\n",
    "- Recall\n",
    "- Kappa de Cohen\n",
    "- F1 Score"
   ]
  },
  {
   "cell_type": "markdown",
   "id": "d4a3419e",
   "metadata": {},
   "source": [
    "# Formas de tomar la data para entrenar\n",
    "- Ver la distribución de los datos\n",
    "- Como tomarlos"
   ]
  },
  {
   "cell_type": "markdown",
   "id": "bfd831ad",
   "metadata": {},
   "source": [
    "# Otros requisitos\n",
    "- Se pide realizar un estudio experimental de los métodos propuestos sobre una base de\n",
    "entrenamiento utilizando la técnica K-fold cross validation mencionada anteriormente, con\n",
    "el objetivo de analizar el poder de clasificación y encontrar los mejores parámetros de los\n",
    "métodos. Se deberá trabajar al menos con la base de de datos MNIST, en la versión disponible\n",
    "en kaggle para la competencia Digit Recognizer 2 ."
   ]
  },
  {
   "cell_type": "markdown",
   "id": "258399fb",
   "metadata": {},
   "source": [
    "# Kaggle code\n"
   ]
  },
  {
   "cell_type": "code",
   "execution_count": 6,
   "id": "3ad0ff01",
   "metadata": {},
   "outputs": [
    {
     "name": "stdout",
     "output_type": "stream",
     "text": [
      "[1, 2, 3, 4, 5, 6, 7, 8, 9, 10, 11, 12, 13, 14, 15, 16, 17, 18, 19, 20]\n"
     ]
    }
   ],
   "source": [
    "filename = \"../data/train.csv\"\n",
    "test_filename = \"../data/test.csv\"\n",
    "k = 1\n",
    "alpha = 35 \n",
    "method = \"KNN_PCA\"\n",
    "num_iter = 2500\n",
    "epsilon = 1e-6\n",
    "\n",
    "asd = list(range(1,20+1))\n",
    "print(asd)\n",
    "\n",
    "df_train = pd.read_csv(filename)\n",
    "\n",
    "# Uso values para mandar todo a arrays de numpy\n",
    "X_train = df_train[df_train.columns[1:]].values\n",
    "label_train = df_train[\"label\"].values.reshape(-1, 1)\n",
    "\n",
    "df_test = pd.read_csv(test_filename)\n",
    "\n",
    "clf = metnum.KNNClassifier(k)\n",
    "\n",
    "\n",
    "pca = metnum.PCA(alpha, num_iter, epsilon)\n",
    "pca.fit(X_train)\n",
    "\n",
    "X_train = pca.transform(X_train)\n",
    "X_val = pca.transform(df_test)\n",
    "\n",
    "clf.fit(X_train, label_train) \n",
    "\n",
    "\n",
    "label_pred = clf.predict(X_val)\n",
    "\n",
    "ran = list(range(1,len(label_pred)+1))\n",
    "\n",
    "np.savetxt(\"../dataExp/kaggleSub.csv\", np.array([ran, label_pred]).transpose().astype(int), fmt='%i', delimiter=\",\")\n"
   ]
  },
  {
   "cell_type": "code",
   "execution_count": null,
   "id": "cbf30fe0",
   "metadata": {},
   "outputs": [],
   "source": []
  }
 ],
 "metadata": {
  "kernelspec": {
   "display_name": "Python 3",
   "language": "python",
   "name": "python3"
  },
  "language_info": {
   "codemirror_mode": {
    "name": "ipython",
    "version": 3
   },
   "file_extension": ".py",
   "mimetype": "text/x-python",
   "name": "python",
   "nbconvert_exporter": "python",
   "pygments_lexer": "ipython3",
   "version": "3.6.5"
  }
 },
 "nbformat": 4,
 "nbformat_minor": 5
}
